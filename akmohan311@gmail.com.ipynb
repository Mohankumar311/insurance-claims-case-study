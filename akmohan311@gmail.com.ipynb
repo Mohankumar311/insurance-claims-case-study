{
 "cells": [
  {
   "cell_type": "code",
   "execution_count": 1,
   "id": "e7ea3c37",
   "metadata": {},
   "outputs": [],
   "source": [
    "import numpy as np\n",
    "import pandas as pd\n",
    "from matplotlib import pyplot as plt\n",
    "import seaborn as sns\n",
    "from numpy import where as IF\n",
    "%matplotlib inline\n",
    "sns.set_context('talk')\n",
    "import scipy.stats as stats\n",
    "import warnings\n",
    "warnings.filterwarnings('ignore')"
   ]
  },
  {
   "cell_type": "markdown",
   "id": "a218c329",
   "metadata": {},
   "source": [
    "1. Import claims_data.csv and cust_data.csv which is provided to you and\n",
    "combine the two datasets appropriately to create a 360-degree view of\n",
    "the data. Use the same for the subsequent questions."
   ]
  },
  {
   "cell_type": "code",
   "execution_count": 2,
   "id": "4d715cf2",
   "metadata": {},
   "outputs": [],
   "source": [
    "claims = pd.read_csv(r\"claims.csv\")\n",
    "cust_demo = pd.read_csv(r\"cust_demographics.csv\")\n"
   ]
  },
  {
   "cell_type": "markdown",
   "id": "05d9f3f7",
   "metadata": {},
   "source": [
    "2. Perform a data audit for the datatypes and find out if there are any\n",
    "mismatch within the current datatypes of the columns and their\n",
    "business significance."
   ]
  },
  {
   "cell_type": "code",
   "execution_count": 3,
   "id": "200a3227",
   "metadata": {},
   "outputs": [
    {
     "data": {
      "text/html": [
       "<div>\n",
       "<style scoped>\n",
       "    .dataframe tbody tr th:only-of-type {\n",
       "        vertical-align: middle;\n",
       "    }\n",
       "\n",
       "    .dataframe tbody tr th {\n",
       "        vertical-align: top;\n",
       "    }\n",
       "\n",
       "    .dataframe thead th {\n",
       "        text-align: right;\n",
       "    }\n",
       "</style>\n",
       "<table border=\"1\" class=\"dataframe\">\n",
       "  <thead>\n",
       "    <tr style=\"text-align: right;\">\n",
       "      <th></th>\n",
       "      <th>claim_id</th>\n",
       "      <th>customer_id</th>\n",
       "      <th>incident_cause</th>\n",
       "      <th>claim_date</th>\n",
       "      <th>claim_area</th>\n",
       "      <th>police_report</th>\n",
       "      <th>claim_type</th>\n",
       "      <th>claim_amount</th>\n",
       "      <th>total_policy_claims</th>\n",
       "      <th>fraudulent</th>\n",
       "    </tr>\n",
       "  </thead>\n",
       "  <tbody>\n",
       "    <tr>\n",
       "      <th>0</th>\n",
       "      <td>54004764</td>\n",
       "      <td>21868593</td>\n",
       "      <td>Driver error</td>\n",
       "      <td>11/27/2017</td>\n",
       "      <td>Auto</td>\n",
       "      <td>No</td>\n",
       "      <td>Material only</td>\n",
       "      <td>$2980</td>\n",
       "      <td>1.0</td>\n",
       "      <td>No</td>\n",
       "    </tr>\n",
       "    <tr>\n",
       "      <th>1</th>\n",
       "      <td>33985796</td>\n",
       "      <td>75740424</td>\n",
       "      <td>Crime</td>\n",
       "      <td>10/03/2018</td>\n",
       "      <td>Home</td>\n",
       "      <td>Unknown</td>\n",
       "      <td>Material only</td>\n",
       "      <td>$2980</td>\n",
       "      <td>3.0</td>\n",
       "      <td>No</td>\n",
       "    </tr>\n",
       "    <tr>\n",
       "      <th>2</th>\n",
       "      <td>53522022</td>\n",
       "      <td>30308357</td>\n",
       "      <td>Other driver error</td>\n",
       "      <td>02/02/2018</td>\n",
       "      <td>Auto</td>\n",
       "      <td>No</td>\n",
       "      <td>Material only</td>\n",
       "      <td>$3369.5</td>\n",
       "      <td>1.0</td>\n",
       "      <td>Yes</td>\n",
       "    </tr>\n",
       "    <tr>\n",
       "      <th>3</th>\n",
       "      <td>13015401</td>\n",
       "      <td>47830476</td>\n",
       "      <td>Natural causes</td>\n",
       "      <td>06/17/2018</td>\n",
       "      <td>Auto</td>\n",
       "      <td>No</td>\n",
       "      <td>Material only</td>\n",
       "      <td>$1680</td>\n",
       "      <td>1.0</td>\n",
       "      <td>No</td>\n",
       "    </tr>\n",
       "    <tr>\n",
       "      <th>4</th>\n",
       "      <td>22890252</td>\n",
       "      <td>19269962</td>\n",
       "      <td>Crime</td>\n",
       "      <td>01/13/2018</td>\n",
       "      <td>Auto</td>\n",
       "      <td>No</td>\n",
       "      <td>Material only</td>\n",
       "      <td>$2680</td>\n",
       "      <td>1.0</td>\n",
       "      <td>No</td>\n",
       "    </tr>\n",
       "  </tbody>\n",
       "</table>\n",
       "</div>"
      ],
      "text/plain": [
       "   claim_id  customer_id      incident_cause  claim_date claim_area  \\\n",
       "0  54004764     21868593        Driver error  11/27/2017       Auto   \n",
       "1  33985796     75740424               Crime  10/03/2018       Home   \n",
       "2  53522022     30308357  Other driver error  02/02/2018       Auto   \n",
       "3  13015401     47830476      Natural causes  06/17/2018       Auto   \n",
       "4  22890252     19269962               Crime  01/13/2018       Auto   \n",
       "\n",
       "  police_report     claim_type claim_amount  total_policy_claims fraudulent  \n",
       "0            No  Material only        $2980                  1.0         No  \n",
       "1       Unknown  Material only        $2980                  3.0         No  \n",
       "2            No  Material only      $3369.5                  1.0        Yes  \n",
       "3            No  Material only        $1680                  1.0         No  \n",
       "4            No  Material only        $2680                  1.0         No  "
      ]
     },
     "execution_count": 3,
     "metadata": {},
     "output_type": "execute_result"
    }
   ],
   "source": [
    "claims.head()"
   ]
  },
  {
   "cell_type": "code",
   "execution_count": 4,
   "id": "9f40b122",
   "metadata": {},
   "outputs": [
    {
     "data": {
      "text/html": [
       "<div>\n",
       "<style scoped>\n",
       "    .dataframe tbody tr th:only-of-type {\n",
       "        vertical-align: middle;\n",
       "    }\n",
       "\n",
       "    .dataframe tbody tr th {\n",
       "        vertical-align: top;\n",
       "    }\n",
       "\n",
       "    .dataframe thead th {\n",
       "        text-align: right;\n",
       "    }\n",
       "</style>\n",
       "<table border=\"1\" class=\"dataframe\">\n",
       "  <thead>\n",
       "    <tr style=\"text-align: right;\">\n",
       "      <th></th>\n",
       "      <th>CUST_ID</th>\n",
       "      <th>gender</th>\n",
       "      <th>DateOfBirth</th>\n",
       "      <th>State</th>\n",
       "      <th>Contact</th>\n",
       "      <th>Segment</th>\n",
       "      <th>claim_id</th>\n",
       "      <th>incident_cause</th>\n",
       "      <th>claim_date</th>\n",
       "      <th>claim_area</th>\n",
       "      <th>police_report</th>\n",
       "      <th>claim_type</th>\n",
       "      <th>claim_amount</th>\n",
       "      <th>total_policy_claims</th>\n",
       "      <th>fraudulent</th>\n",
       "    </tr>\n",
       "  </thead>\n",
       "  <tbody>\n",
       "    <tr>\n",
       "      <th>0</th>\n",
       "      <td>21868593.0</td>\n",
       "      <td>Female</td>\n",
       "      <td>12-Jan-79</td>\n",
       "      <td>VT</td>\n",
       "      <td>789-916-8172</td>\n",
       "      <td>Platinum</td>\n",
       "      <td>54004764.0</td>\n",
       "      <td>Driver error</td>\n",
       "      <td>11/27/2017</td>\n",
       "      <td>Auto</td>\n",
       "      <td>No</td>\n",
       "      <td>Material only</td>\n",
       "      <td>$2980</td>\n",
       "      <td>1.0</td>\n",
       "      <td>No</td>\n",
       "    </tr>\n",
       "    <tr>\n",
       "      <th>1</th>\n",
       "      <td>75740424.0</td>\n",
       "      <td>Female</td>\n",
       "      <td>13-Jan-70</td>\n",
       "      <td>ME</td>\n",
       "      <td>265-543-1264</td>\n",
       "      <td>Silver</td>\n",
       "      <td>33985796.0</td>\n",
       "      <td>Crime</td>\n",
       "      <td>10/03/2018</td>\n",
       "      <td>Home</td>\n",
       "      <td>Unknown</td>\n",
       "      <td>Material only</td>\n",
       "      <td>$2980</td>\n",
       "      <td>3.0</td>\n",
       "      <td>No</td>\n",
       "    </tr>\n",
       "    <tr>\n",
       "      <th>2</th>\n",
       "      <td>30308357.0</td>\n",
       "      <td>Female</td>\n",
       "      <td>11-Mar-84</td>\n",
       "      <td>TN</td>\n",
       "      <td>798-631-4758</td>\n",
       "      <td>Silver</td>\n",
       "      <td>53522022.0</td>\n",
       "      <td>Other driver error</td>\n",
       "      <td>02/02/2018</td>\n",
       "      <td>Auto</td>\n",
       "      <td>No</td>\n",
       "      <td>Material only</td>\n",
       "      <td>$3369.5</td>\n",
       "      <td>1.0</td>\n",
       "      <td>Yes</td>\n",
       "    </tr>\n",
       "    <tr>\n",
       "      <th>3</th>\n",
       "      <td>30308357.0</td>\n",
       "      <td>Female</td>\n",
       "      <td>11-Mar-84</td>\n",
       "      <td>TN</td>\n",
       "      <td>798-631-4758</td>\n",
       "      <td>Silver</td>\n",
       "      <td>63017412.0</td>\n",
       "      <td>Driver error</td>\n",
       "      <td>04/04/2018</td>\n",
       "      <td>Auto</td>\n",
       "      <td>No</td>\n",
       "      <td>Material only</td>\n",
       "      <td>$1950</td>\n",
       "      <td>6.0</td>\n",
       "      <td>No</td>\n",
       "    </tr>\n",
       "    <tr>\n",
       "      <th>4</th>\n",
       "      <td>47830476.0</td>\n",
       "      <td>Female</td>\n",
       "      <td>01-May-86</td>\n",
       "      <td>MA</td>\n",
       "      <td>413-187-7945</td>\n",
       "      <td>Silver</td>\n",
       "      <td>13015401.0</td>\n",
       "      <td>Natural causes</td>\n",
       "      <td>06/17/2018</td>\n",
       "      <td>Auto</td>\n",
       "      <td>No</td>\n",
       "      <td>Material only</td>\n",
       "      <td>$1680</td>\n",
       "      <td>1.0</td>\n",
       "      <td>No</td>\n",
       "    </tr>\n",
       "  </tbody>\n",
       "</table>\n",
       "</div>"
      ],
      "text/plain": [
       "      CUST_ID  gender DateOfBirth State       Contact   Segment    claim_id  \\\n",
       "0  21868593.0  Female   12-Jan-79    VT  789-916-8172  Platinum  54004764.0   \n",
       "1  75740424.0  Female   13-Jan-70    ME  265-543-1264    Silver  33985796.0   \n",
       "2  30308357.0  Female   11-Mar-84    TN  798-631-4758    Silver  53522022.0   \n",
       "3  30308357.0  Female   11-Mar-84    TN  798-631-4758    Silver  63017412.0   \n",
       "4  47830476.0  Female   01-May-86    MA  413-187-7945    Silver  13015401.0   \n",
       "\n",
       "       incident_cause  claim_date claim_area police_report     claim_type  \\\n",
       "0        Driver error  11/27/2017       Auto            No  Material only   \n",
       "1               Crime  10/03/2018       Home       Unknown  Material only   \n",
       "2  Other driver error  02/02/2018       Auto            No  Material only   \n",
       "3        Driver error  04/04/2018       Auto            No  Material only   \n",
       "4      Natural causes  06/17/2018       Auto            No  Material only   \n",
       "\n",
       "  claim_amount  total_policy_claims fraudulent  \n",
       "0        $2980                  1.0         No  \n",
       "1        $2980                  3.0         No  \n",
       "2      $3369.5                  1.0        Yes  \n",
       "3        $1950                  6.0         No  \n",
       "4        $1680                  1.0         No  "
      ]
     },
     "execution_count": 4,
     "metadata": {},
     "output_type": "execute_result"
    }
   ],
   "source": [
    "df = pd.merge(right = claims,\n",
    "                   left = cust_demo, \n",
    "                   right_on = \"customer_id\", \n",
    "                   left_on = \"CUST_ID\",\n",
    "                   how = \"outer\"\n",
    "                  )\n",
    "df.drop(columns = [\"customer_id\"], inplace = True)\n",
    "df.head()"
   ]
  },
  {
   "cell_type": "markdown",
   "id": "c13164ce",
   "metadata": {},
   "source": [
    "3)Convert the column claim_amount to numeric. Use the appropriate modules/attributes to remove the $ sign.\n",
    "\n",
    "\n",
    "\n",
    "\n"
   ]
  },
  {
   "cell_type": "code",
   "execution_count": 5,
   "id": "6d419b41",
   "metadata": {},
   "outputs": [
    {
     "data": {
      "text/html": [
       "<div>\n",
       "<style scoped>\n",
       "    .dataframe tbody tr th:only-of-type {\n",
       "        vertical-align: middle;\n",
       "    }\n",
       "\n",
       "    .dataframe tbody tr th {\n",
       "        vertical-align: top;\n",
       "    }\n",
       "\n",
       "    .dataframe thead th {\n",
       "        text-align: right;\n",
       "    }\n",
       "</style>\n",
       "<table border=\"1\" class=\"dataframe\">\n",
       "  <thead>\n",
       "    <tr style=\"text-align: right;\">\n",
       "      <th></th>\n",
       "      <th>CUST_ID</th>\n",
       "      <th>gender</th>\n",
       "      <th>DateOfBirth</th>\n",
       "      <th>State</th>\n",
       "      <th>Contact</th>\n",
       "      <th>Segment</th>\n",
       "      <th>claim_id</th>\n",
       "      <th>incident_cause</th>\n",
       "      <th>claim_date</th>\n",
       "      <th>claim_area</th>\n",
       "      <th>police_report</th>\n",
       "      <th>claim_type</th>\n",
       "      <th>claim_amount</th>\n",
       "      <th>total_policy_claims</th>\n",
       "      <th>fraudulent</th>\n",
       "    </tr>\n",
       "  </thead>\n",
       "  <tbody>\n",
       "    <tr>\n",
       "      <th>0</th>\n",
       "      <td>21868593.0</td>\n",
       "      <td>Female</td>\n",
       "      <td>1979-01-12</td>\n",
       "      <td>VT</td>\n",
       "      <td>7.899168e+09</td>\n",
       "      <td>Platinum</td>\n",
       "      <td>54004764.0</td>\n",
       "      <td>Driver error</td>\n",
       "      <td>2017-11-27</td>\n",
       "      <td>Auto</td>\n",
       "      <td>No</td>\n",
       "      <td>Material only</td>\n",
       "      <td>2980.0</td>\n",
       "      <td>1.0</td>\n",
       "      <td>No</td>\n",
       "    </tr>\n",
       "    <tr>\n",
       "      <th>1</th>\n",
       "      <td>75740424.0</td>\n",
       "      <td>Female</td>\n",
       "      <td>1970-01-13</td>\n",
       "      <td>ME</td>\n",
       "      <td>2.655431e+09</td>\n",
       "      <td>Silver</td>\n",
       "      <td>33985796.0</td>\n",
       "      <td>Crime</td>\n",
       "      <td>2018-10-03</td>\n",
       "      <td>Home</td>\n",
       "      <td>Unknown</td>\n",
       "      <td>Material only</td>\n",
       "      <td>2980.0</td>\n",
       "      <td>3.0</td>\n",
       "      <td>No</td>\n",
       "    </tr>\n",
       "    <tr>\n",
       "      <th>2</th>\n",
       "      <td>30308357.0</td>\n",
       "      <td>Female</td>\n",
       "      <td>1984-03-11</td>\n",
       "      <td>TN</td>\n",
       "      <td>7.986315e+09</td>\n",
       "      <td>Silver</td>\n",
       "      <td>53522022.0</td>\n",
       "      <td>Other driver error</td>\n",
       "      <td>2018-02-02</td>\n",
       "      <td>Auto</td>\n",
       "      <td>No</td>\n",
       "      <td>Material only</td>\n",
       "      <td>3369.5</td>\n",
       "      <td>1.0</td>\n",
       "      <td>Yes</td>\n",
       "    </tr>\n",
       "    <tr>\n",
       "      <th>3</th>\n",
       "      <td>30308357.0</td>\n",
       "      <td>Female</td>\n",
       "      <td>1984-03-11</td>\n",
       "      <td>TN</td>\n",
       "      <td>7.986315e+09</td>\n",
       "      <td>Silver</td>\n",
       "      <td>63017412.0</td>\n",
       "      <td>Driver error</td>\n",
       "      <td>2018-04-04</td>\n",
       "      <td>Auto</td>\n",
       "      <td>No</td>\n",
       "      <td>Material only</td>\n",
       "      <td>1950.0</td>\n",
       "      <td>6.0</td>\n",
       "      <td>No</td>\n",
       "    </tr>\n",
       "    <tr>\n",
       "      <th>4</th>\n",
       "      <td>47830476.0</td>\n",
       "      <td>Female</td>\n",
       "      <td>1986-05-01</td>\n",
       "      <td>MA</td>\n",
       "      <td>4.131878e+09</td>\n",
       "      <td>Silver</td>\n",
       "      <td>13015401.0</td>\n",
       "      <td>Natural causes</td>\n",
       "      <td>2018-06-17</td>\n",
       "      <td>Auto</td>\n",
       "      <td>No</td>\n",
       "      <td>Material only</td>\n",
       "      <td>1680.0</td>\n",
       "      <td>1.0</td>\n",
       "      <td>No</td>\n",
       "    </tr>\n",
       "  </tbody>\n",
       "</table>\n",
       "</div>"
      ],
      "text/plain": [
       "      CUST_ID  gender DateOfBirth State       Contact   Segment    claim_id  \\\n",
       "0  21868593.0  Female  1979-01-12    VT  7.899168e+09  Platinum  54004764.0   \n",
       "1  75740424.0  Female  1970-01-13    ME  2.655431e+09    Silver  33985796.0   \n",
       "2  30308357.0  Female  1984-03-11    TN  7.986315e+09    Silver  53522022.0   \n",
       "3  30308357.0  Female  1984-03-11    TN  7.986315e+09    Silver  63017412.0   \n",
       "4  47830476.0  Female  1986-05-01    MA  4.131878e+09    Silver  13015401.0   \n",
       "\n",
       "       incident_cause claim_date claim_area police_report     claim_type  \\\n",
       "0        Driver error 2017-11-27       Auto            No  Material only   \n",
       "1               Crime 2018-10-03       Home       Unknown  Material only   \n",
       "2  Other driver error 2018-02-02       Auto            No  Material only   \n",
       "3        Driver error 2018-04-04       Auto            No  Material only   \n",
       "4      Natural causes 2018-06-17       Auto            No  Material only   \n",
       "\n",
       "   claim_amount  total_policy_claims fraudulent  \n",
       "0        2980.0                  1.0         No  \n",
       "1        2980.0                  3.0         No  \n",
       "2        3369.5                  1.0        Yes  \n",
       "3        1950.0                  6.0         No  \n",
       "4        1680.0                  1.0         No  "
      ]
     },
     "execution_count": 5,
     "metadata": {},
     "output_type": "execute_result"
    }
   ],
   "source": [
    "df[\"DateOfBirth\"] = pd.to_datetime(df.DateOfBirth, format = \"%d-%b-%y\")\n",
    "df.loc[(df.DateOfBirth.dt.year > 2020),\"DateOfBirth\"]=df[df.DateOfBirth.dt.year > 2020][\"DateOfBirth\"].apply(lambda x: x - pd.DateOffset(years=100))\n",
    "df[\"claim_date\"] = pd.to_datetime(df.claim_date, format = \"%m/%d/%Y\")\n",
    "df[\"Contact\"] = pd.to_numeric(df.Contact.str.replace(\"-\",\"\"),downcast='float')\n",
    "df[\"claim_amount\"] = pd.to_numeric(df.claim_amount.str.replace(\"$\",\"\"),downcast='float')\n",
    "df.head()"
   ]
  },
  {
   "cell_type": "code",
   "execution_count": 6,
   "id": "ab9e8d17",
   "metadata": {},
   "outputs": [
    {
     "data": {
      "text/plain": [
       "CUST_ID                       float64\n",
       "gender                         object\n",
       "DateOfBirth            datetime64[ns]\n",
       "State                          object\n",
       "Contact                       float32\n",
       "Segment                        object\n",
       "claim_id                      float64\n",
       "incident_cause                 object\n",
       "claim_date             datetime64[ns]\n",
       "claim_area                     object\n",
       "police_report                  object\n",
       "claim_type                     object\n",
       "claim_amount                  float32\n",
       "total_policy_claims           float64\n",
       "fraudulent                     object\n",
       "dtype: object"
      ]
     },
     "execution_count": 6,
     "metadata": {},
     "output_type": "execute_result"
    }
   ],
   "source": [
    "df.dtypes"
   ]
  },
  {
   "cell_type": "markdown",
   "id": "9d056613",
   "metadata": {},
   "source": [
    "4)Of all the injury claims, some of them have gone unreported with the police. Create an alert flag (1,0) for all such claims.\n"
   ]
  },
  {
   "cell_type": "code",
   "execution_count": 7,
   "id": "a0e4056c",
   "metadata": {},
   "outputs": [
    {
     "data": {
      "text/html": [
       "<div>\n",
       "<style scoped>\n",
       "    .dataframe tbody tr th:only-of-type {\n",
       "        vertical-align: middle;\n",
       "    }\n",
       "\n",
       "    .dataframe tbody tr th {\n",
       "        vertical-align: top;\n",
       "    }\n",
       "\n",
       "    .dataframe thead th {\n",
       "        text-align: right;\n",
       "    }\n",
       "</style>\n",
       "<table border=\"1\" class=\"dataframe\">\n",
       "  <thead>\n",
       "    <tr style=\"text-align: right;\">\n",
       "      <th></th>\n",
       "      <th>CUST_ID</th>\n",
       "      <th>gender</th>\n",
       "      <th>DateOfBirth</th>\n",
       "      <th>State</th>\n",
       "      <th>Contact</th>\n",
       "      <th>Segment</th>\n",
       "      <th>claim_id</th>\n",
       "      <th>incident_cause</th>\n",
       "      <th>claim_date</th>\n",
       "      <th>claim_area</th>\n",
       "      <th>claim_type</th>\n",
       "      <th>claim_amount</th>\n",
       "      <th>total_policy_claims</th>\n",
       "      <th>fraudulent</th>\n",
       "      <th>flag</th>\n",
       "    </tr>\n",
       "  </thead>\n",
       "  <tbody>\n",
       "    <tr>\n",
       "      <th>0</th>\n",
       "      <td>21868593.0</td>\n",
       "      <td>Female</td>\n",
       "      <td>1979-01-12</td>\n",
       "      <td>VT</td>\n",
       "      <td>7.899168e+09</td>\n",
       "      <td>Platinum</td>\n",
       "      <td>54004764.0</td>\n",
       "      <td>Driver error</td>\n",
       "      <td>2017-11-27</td>\n",
       "      <td>Auto</td>\n",
       "      <td>Material only</td>\n",
       "      <td>2980.0</td>\n",
       "      <td>1.0</td>\n",
       "      <td>No</td>\n",
       "      <td>0.0</td>\n",
       "    </tr>\n",
       "    <tr>\n",
       "      <th>1</th>\n",
       "      <td>75740424.0</td>\n",
       "      <td>Female</td>\n",
       "      <td>1970-01-13</td>\n",
       "      <td>ME</td>\n",
       "      <td>2.655431e+09</td>\n",
       "      <td>Silver</td>\n",
       "      <td>33985796.0</td>\n",
       "      <td>Crime</td>\n",
       "      <td>2018-10-03</td>\n",
       "      <td>Home</td>\n",
       "      <td>Material only</td>\n",
       "      <td>2980.0</td>\n",
       "      <td>3.0</td>\n",
       "      <td>No</td>\n",
       "      <td>NaN</td>\n",
       "    </tr>\n",
       "    <tr>\n",
       "      <th>2</th>\n",
       "      <td>30308357.0</td>\n",
       "      <td>Female</td>\n",
       "      <td>1984-03-11</td>\n",
       "      <td>TN</td>\n",
       "      <td>7.986315e+09</td>\n",
       "      <td>Silver</td>\n",
       "      <td>53522022.0</td>\n",
       "      <td>Other driver error</td>\n",
       "      <td>2018-02-02</td>\n",
       "      <td>Auto</td>\n",
       "      <td>Material only</td>\n",
       "      <td>3369.5</td>\n",
       "      <td>1.0</td>\n",
       "      <td>Yes</td>\n",
       "      <td>0.0</td>\n",
       "    </tr>\n",
       "    <tr>\n",
       "      <th>3</th>\n",
       "      <td>30308357.0</td>\n",
       "      <td>Female</td>\n",
       "      <td>1984-03-11</td>\n",
       "      <td>TN</td>\n",
       "      <td>7.986315e+09</td>\n",
       "      <td>Silver</td>\n",
       "      <td>63017412.0</td>\n",
       "      <td>Driver error</td>\n",
       "      <td>2018-04-04</td>\n",
       "      <td>Auto</td>\n",
       "      <td>Material only</td>\n",
       "      <td>1950.0</td>\n",
       "      <td>6.0</td>\n",
       "      <td>No</td>\n",
       "      <td>0.0</td>\n",
       "    </tr>\n",
       "    <tr>\n",
       "      <th>4</th>\n",
       "      <td>47830476.0</td>\n",
       "      <td>Female</td>\n",
       "      <td>1986-05-01</td>\n",
       "      <td>MA</td>\n",
       "      <td>4.131878e+09</td>\n",
       "      <td>Silver</td>\n",
       "      <td>13015401.0</td>\n",
       "      <td>Natural causes</td>\n",
       "      <td>2018-06-17</td>\n",
       "      <td>Auto</td>\n",
       "      <td>Material only</td>\n",
       "      <td>1680.0</td>\n",
       "      <td>1.0</td>\n",
       "      <td>No</td>\n",
       "      <td>0.0</td>\n",
       "    </tr>\n",
       "    <tr>\n",
       "      <th>...</th>\n",
       "      <td>...</td>\n",
       "      <td>...</td>\n",
       "      <td>...</td>\n",
       "      <td>...</td>\n",
       "      <td>...</td>\n",
       "      <td>...</td>\n",
       "      <td>...</td>\n",
       "      <td>...</td>\n",
       "      <td>...</td>\n",
       "      <td>...</td>\n",
       "      <td>...</td>\n",
       "      <td>...</td>\n",
       "      <td>...</td>\n",
       "      <td>...</td>\n",
       "      <td>...</td>\n",
       "    </tr>\n",
       "    <tr>\n",
       "      <th>1102</th>\n",
       "      <td>NaN</td>\n",
       "      <td>NaN</td>\n",
       "      <td>NaT</td>\n",
       "      <td>NaN</td>\n",
       "      <td>NaN</td>\n",
       "      <td>NaN</td>\n",
       "      <td>97727122.0</td>\n",
       "      <td>Other driver error</td>\n",
       "      <td>2017-06-11</td>\n",
       "      <td>Auto</td>\n",
       "      <td>Material only</td>\n",
       "      <td>3059.0</td>\n",
       "      <td>4.0</td>\n",
       "      <td>Yes</td>\n",
       "      <td>0.0</td>\n",
       "    </tr>\n",
       "    <tr>\n",
       "      <th>1103</th>\n",
       "      <td>NaN</td>\n",
       "      <td>NaN</td>\n",
       "      <td>NaT</td>\n",
       "      <td>NaN</td>\n",
       "      <td>NaN</td>\n",
       "      <td>NaN</td>\n",
       "      <td>10247193.0</td>\n",
       "      <td>Natural causes</td>\n",
       "      <td>2018-03-14</td>\n",
       "      <td>Auto</td>\n",
       "      <td>Material only</td>\n",
       "      <td>1520.0</td>\n",
       "      <td>2.0</td>\n",
       "      <td>No</td>\n",
       "      <td>0.0</td>\n",
       "    </tr>\n",
       "    <tr>\n",
       "      <th>1104</th>\n",
       "      <td>NaN</td>\n",
       "      <td>NaN</td>\n",
       "      <td>NaT</td>\n",
       "      <td>NaN</td>\n",
       "      <td>NaN</td>\n",
       "      <td>NaN</td>\n",
       "      <td>79807493.0</td>\n",
       "      <td>Other driver error</td>\n",
       "      <td>2018-02-09</td>\n",
       "      <td>Auto</td>\n",
       "      <td>Material and injury</td>\n",
       "      <td>23575.0</td>\n",
       "      <td>2.0</td>\n",
       "      <td>Yes</td>\n",
       "      <td>0.0</td>\n",
       "    </tr>\n",
       "    <tr>\n",
       "      <th>1105</th>\n",
       "      <td>NaN</td>\n",
       "      <td>NaN</td>\n",
       "      <td>NaT</td>\n",
       "      <td>NaN</td>\n",
       "      <td>NaN</td>\n",
       "      <td>NaN</td>\n",
       "      <td>69299345.0</td>\n",
       "      <td>Other causes</td>\n",
       "      <td>2018-03-21</td>\n",
       "      <td>Auto</td>\n",
       "      <td>Material and injury</td>\n",
       "      <td>25120.0</td>\n",
       "      <td>1.0</td>\n",
       "      <td>No</td>\n",
       "      <td>NaN</td>\n",
       "    </tr>\n",
       "    <tr>\n",
       "      <th>1106</th>\n",
       "      <td>NaN</td>\n",
       "      <td>NaN</td>\n",
       "      <td>NaT</td>\n",
       "      <td>NaN</td>\n",
       "      <td>NaN</td>\n",
       "      <td>NaN</td>\n",
       "      <td>58809728.0</td>\n",
       "      <td>Other driver error</td>\n",
       "      <td>2017-06-04</td>\n",
       "      <td>Auto</td>\n",
       "      <td>Material and injury</td>\n",
       "      <td>36685.0</td>\n",
       "      <td>3.0</td>\n",
       "      <td>Yes</td>\n",
       "      <td>1.0</td>\n",
       "    </tr>\n",
       "  </tbody>\n",
       "</table>\n",
       "<p>1107 rows × 15 columns</p>\n",
       "</div>"
      ],
      "text/plain": [
       "         CUST_ID  gender DateOfBirth State       Contact   Segment  \\\n",
       "0     21868593.0  Female  1979-01-12    VT  7.899168e+09  Platinum   \n",
       "1     75740424.0  Female  1970-01-13    ME  2.655431e+09    Silver   \n",
       "2     30308357.0  Female  1984-03-11    TN  7.986315e+09    Silver   \n",
       "3     30308357.0  Female  1984-03-11    TN  7.986315e+09    Silver   \n",
       "4     47830476.0  Female  1986-05-01    MA  4.131878e+09    Silver   \n",
       "...          ...     ...         ...   ...           ...       ...   \n",
       "1102         NaN     NaN         NaT   NaN           NaN       NaN   \n",
       "1103         NaN     NaN         NaT   NaN           NaN       NaN   \n",
       "1104         NaN     NaN         NaT   NaN           NaN       NaN   \n",
       "1105         NaN     NaN         NaT   NaN           NaN       NaN   \n",
       "1106         NaN     NaN         NaT   NaN           NaN       NaN   \n",
       "\n",
       "        claim_id      incident_cause claim_date claim_area  \\\n",
       "0     54004764.0        Driver error 2017-11-27       Auto   \n",
       "1     33985796.0               Crime 2018-10-03       Home   \n",
       "2     53522022.0  Other driver error 2018-02-02       Auto   \n",
       "3     63017412.0        Driver error 2018-04-04       Auto   \n",
       "4     13015401.0      Natural causes 2018-06-17       Auto   \n",
       "...          ...                 ...        ...        ...   \n",
       "1102  97727122.0  Other driver error 2017-06-11       Auto   \n",
       "1103  10247193.0      Natural causes 2018-03-14       Auto   \n",
       "1104  79807493.0  Other driver error 2018-02-09       Auto   \n",
       "1105  69299345.0        Other causes 2018-03-21       Auto   \n",
       "1106  58809728.0  Other driver error 2017-06-04       Auto   \n",
       "\n",
       "               claim_type  claim_amount  total_policy_claims fraudulent  flag  \n",
       "0           Material only        2980.0                  1.0         No   0.0  \n",
       "1           Material only        2980.0                  3.0         No   NaN  \n",
       "2           Material only        3369.5                  1.0        Yes   0.0  \n",
       "3           Material only        1950.0                  6.0         No   0.0  \n",
       "4           Material only        1680.0                  1.0         No   0.0  \n",
       "...                   ...           ...                  ...        ...   ...  \n",
       "1102        Material only        3059.0                  4.0        Yes   0.0  \n",
       "1103        Material only        1520.0                  2.0         No   0.0  \n",
       "1104  Material and injury       23575.0                  2.0        Yes   0.0  \n",
       "1105  Material and injury       25120.0                  1.0         No   NaN  \n",
       "1106  Material and injury       36685.0                  3.0        Yes   1.0  \n",
       "\n",
       "[1107 rows x 15 columns]"
      ]
     },
     "execution_count": 7,
     "metadata": {},
     "output_type": "execute_result"
    }
   ],
   "source": [
    "\n",
    "df[\"flag\"] = IF(df.police_report == \"No\", 0 ,\n",
    "                    IF(df.police_report == \"Yes\", 1, np.nan))\n",
    "df.drop(columns = [\"police_report\"], inplace = True)\n",
    "df"
   ]
  },
  {
   "cell_type": "markdown",
   "id": "c2f97d57",
   "metadata": {},
   "source": [
    "5)One customer can claim for insurance more than once and in each claim, multiple categories of claims can be involved. However, customer ID should remain unique. Retain the most recent observation and delete any duplicated records in the data based on the customer ID column\n"
   ]
  },
  {
   "cell_type": "code",
   "execution_count": 8,
   "id": "c9ca0478",
   "metadata": {},
   "outputs": [
    {
     "data": {
      "text/html": [
       "<div>\n",
       "<style scoped>\n",
       "    .dataframe tbody tr th:only-of-type {\n",
       "        vertical-align: middle;\n",
       "    }\n",
       "\n",
       "    .dataframe tbody tr th {\n",
       "        vertical-align: top;\n",
       "    }\n",
       "\n",
       "    .dataframe thead th {\n",
       "        text-align: right;\n",
       "    }\n",
       "</style>\n",
       "<table border=\"1\" class=\"dataframe\">\n",
       "  <thead>\n",
       "    <tr style=\"text-align: right;\">\n",
       "      <th></th>\n",
       "      <th>gender</th>\n",
       "      <th>DateOfBirth</th>\n",
       "      <th>State</th>\n",
       "      <th>Contact</th>\n",
       "      <th>Segment</th>\n",
       "      <th>claim_id</th>\n",
       "      <th>incident_cause</th>\n",
       "      <th>claim_date</th>\n",
       "      <th>claim_area</th>\n",
       "      <th>claim_type</th>\n",
       "      <th>claim_amount</th>\n",
       "      <th>total_policy_claims</th>\n",
       "      <th>fraudulent</th>\n",
       "      <th>flag</th>\n",
       "    </tr>\n",
       "  </thead>\n",
       "  <tbody>\n",
       "    <tr>\n",
       "      <th>0</th>\n",
       "      <td>Female</td>\n",
       "      <td>1978-05-23</td>\n",
       "      <td>DE</td>\n",
       "      <td>9.628791e+09</td>\n",
       "      <td>Platinum</td>\n",
       "      <td>69348631.0</td>\n",
       "      <td>Driver error</td>\n",
       "      <td>2018-04-10</td>\n",
       "      <td>Auto</td>\n",
       "      <td>Injury only</td>\n",
       "      <td>NaN</td>\n",
       "      <td>1.0</td>\n",
       "      <td>Yes</td>\n",
       "      <td>0.0</td>\n",
       "    </tr>\n",
       "    <tr>\n",
       "      <th>1</th>\n",
       "      <td>Male</td>\n",
       "      <td>1972-12-20</td>\n",
       "      <td>TX</td>\n",
       "      <td>1.738926e+09</td>\n",
       "      <td>Silver</td>\n",
       "      <td>40953049.0</td>\n",
       "      <td>Other causes</td>\n",
       "      <td>2018-04-04</td>\n",
       "      <td>Auto</td>\n",
       "      <td>Material and injury</td>\n",
       "      <td>39192.0</td>\n",
       "      <td>1.0</td>\n",
       "      <td>Yes</td>\n",
       "      <td>0.0</td>\n",
       "    </tr>\n",
       "    <tr>\n",
       "      <th>2</th>\n",
       "      <td>Male</td>\n",
       "      <td>1988-07-28</td>\n",
       "      <td>FL</td>\n",
       "      <td>3.645981e+09</td>\n",
       "      <td>Silver</td>\n",
       "      <td>45780237.0</td>\n",
       "      <td>Natural causes</td>\n",
       "      <td>2017-10-17</td>\n",
       "      <td>Auto</td>\n",
       "      <td>Material only</td>\n",
       "      <td>1621.5</td>\n",
       "      <td>2.0</td>\n",
       "      <td>Yes</td>\n",
       "      <td>NaN</td>\n",
       "    </tr>\n",
       "    <tr>\n",
       "      <th>3</th>\n",
       "      <td>Male</td>\n",
       "      <td>1971-08-19</td>\n",
       "      <td>CA</td>\n",
       "      <td>1.873488e+09</td>\n",
       "      <td>Gold</td>\n",
       "      <td>89833962.0</td>\n",
       "      <td>Other causes</td>\n",
       "      <td>2018-03-21</td>\n",
       "      <td>Auto</td>\n",
       "      <td>Material and injury</td>\n",
       "      <td>37040.0</td>\n",
       "      <td>1.0</td>\n",
       "      <td>No</td>\n",
       "      <td>1.0</td>\n",
       "    </tr>\n",
       "    <tr>\n",
       "      <th>4</th>\n",
       "      <td>Female</td>\n",
       "      <td>1980-08-10</td>\n",
       "      <td>NC</td>\n",
       "      <td>7.988625e+09</td>\n",
       "      <td>Gold</td>\n",
       "      <td>35782742.0</td>\n",
       "      <td>Other driver error</td>\n",
       "      <td>2018-07-27</td>\n",
       "      <td>Auto</td>\n",
       "      <td>Injury only</td>\n",
       "      <td>35250.0</td>\n",
       "      <td>3.0</td>\n",
       "      <td>No</td>\n",
       "      <td>0.0</td>\n",
       "    </tr>\n",
       "    <tr>\n",
       "      <th>...</th>\n",
       "      <td>...</td>\n",
       "      <td>...</td>\n",
       "      <td>...</td>\n",
       "      <td>...</td>\n",
       "      <td>...</td>\n",
       "      <td>...</td>\n",
       "      <td>...</td>\n",
       "      <td>...</td>\n",
       "      <td>...</td>\n",
       "      <td>...</td>\n",
       "      <td>...</td>\n",
       "      <td>...</td>\n",
       "      <td>...</td>\n",
       "      <td>...</td>\n",
       "    </tr>\n",
       "    <tr>\n",
       "      <th>1080</th>\n",
       "      <td>Male</td>\n",
       "      <td>1965-01-28</td>\n",
       "      <td>UT</td>\n",
       "      <td>5.175625e+09</td>\n",
       "      <td>Silver</td>\n",
       "      <td>4549014.0</td>\n",
       "      <td>Other causes</td>\n",
       "      <td>2018-07-07</td>\n",
       "      <td>Auto</td>\n",
       "      <td>Injury only</td>\n",
       "      <td>21480.0</td>\n",
       "      <td>1.0</td>\n",
       "      <td>No</td>\n",
       "      <td>0.0</td>\n",
       "    </tr>\n",
       "    <tr>\n",
       "      <th>1081</th>\n",
       "      <td>Female</td>\n",
       "      <td>1966-06-19</td>\n",
       "      <td>HI</td>\n",
       "      <td>4.577521e+09</td>\n",
       "      <td>Gold</td>\n",
       "      <td>35453672.0</td>\n",
       "      <td>Natural causes</td>\n",
       "      <td>2018-01-06</td>\n",
       "      <td>Auto</td>\n",
       "      <td>Material and injury</td>\n",
       "      <td>14360.0</td>\n",
       "      <td>1.0</td>\n",
       "      <td>No</td>\n",
       "      <td>1.0</td>\n",
       "    </tr>\n",
       "    <tr>\n",
       "      <th>1082</th>\n",
       "      <td>Female</td>\n",
       "      <td>1963-11-18</td>\n",
       "      <td>NC</td>\n",
       "      <td>6.432465e+09</td>\n",
       "      <td>Silver</td>\n",
       "      <td>37305754.0</td>\n",
       "      <td>Natural causes</td>\n",
       "      <td>2018-04-04</td>\n",
       "      <td>Auto</td>\n",
       "      <td>Material only</td>\n",
       "      <td>1242.0</td>\n",
       "      <td>1.0</td>\n",
       "      <td>Yes</td>\n",
       "      <td>0.0</td>\n",
       "    </tr>\n",
       "    <tr>\n",
       "      <th>1083</th>\n",
       "      <td>Male</td>\n",
       "      <td>1995-06-08</td>\n",
       "      <td>OR</td>\n",
       "      <td>3.952466e+09</td>\n",
       "      <td>Gold</td>\n",
       "      <td>22960702.0</td>\n",
       "      <td>Driver error</td>\n",
       "      <td>2017-11-13</td>\n",
       "      <td>Auto</td>\n",
       "      <td>Material only</td>\n",
       "      <td>2415.0</td>\n",
       "      <td>2.0</td>\n",
       "      <td>Yes</td>\n",
       "      <td>0.0</td>\n",
       "    </tr>\n",
       "    <tr>\n",
       "      <th>1084</th>\n",
       "      <td>Male</td>\n",
       "      <td>1995-06-10</td>\n",
       "      <td>AL</td>\n",
       "      <td>2.349433e+09</td>\n",
       "      <td>Platinum</td>\n",
       "      <td>47262068.0</td>\n",
       "      <td>Driver error</td>\n",
       "      <td>2018-10-23</td>\n",
       "      <td>Home</td>\n",
       "      <td>Material only</td>\n",
       "      <td>2310.0</td>\n",
       "      <td>1.0</td>\n",
       "      <td>No</td>\n",
       "      <td>0.0</td>\n",
       "    </tr>\n",
       "  </tbody>\n",
       "</table>\n",
       "<p>1085 rows × 14 columns</p>\n",
       "</div>"
      ],
      "text/plain": [
       "      gender DateOfBirth State       Contact   Segment    claim_id  \\\n",
       "0     Female  1978-05-23    DE  9.628791e+09  Platinum  69348631.0   \n",
       "1       Male  1972-12-20    TX  1.738926e+09    Silver  40953049.0   \n",
       "2       Male  1988-07-28    FL  3.645981e+09    Silver  45780237.0   \n",
       "3       Male  1971-08-19    CA  1.873488e+09      Gold  89833962.0   \n",
       "4     Female  1980-08-10    NC  7.988625e+09      Gold  35782742.0   \n",
       "...      ...         ...   ...           ...       ...         ...   \n",
       "1080    Male  1965-01-28    UT  5.175625e+09    Silver   4549014.0   \n",
       "1081  Female  1966-06-19    HI  4.577521e+09      Gold  35453672.0   \n",
       "1082  Female  1963-11-18    NC  6.432465e+09    Silver  37305754.0   \n",
       "1083    Male  1995-06-08    OR  3.952466e+09      Gold  22960702.0   \n",
       "1084    Male  1995-06-10    AL  2.349433e+09  Platinum  47262068.0   \n",
       "\n",
       "          incident_cause claim_date claim_area           claim_type  \\\n",
       "0           Driver error 2018-04-10       Auto          Injury only   \n",
       "1           Other causes 2018-04-04       Auto  Material and injury   \n",
       "2         Natural causes 2017-10-17       Auto        Material only   \n",
       "3           Other causes 2018-03-21       Auto  Material and injury   \n",
       "4     Other driver error 2018-07-27       Auto          Injury only   \n",
       "...                  ...        ...        ...                  ...   \n",
       "1080        Other causes 2018-07-07       Auto          Injury only   \n",
       "1081      Natural causes 2018-01-06       Auto  Material and injury   \n",
       "1082      Natural causes 2018-04-04       Auto        Material only   \n",
       "1083        Driver error 2017-11-13       Auto        Material only   \n",
       "1084        Driver error 2018-10-23       Home        Material only   \n",
       "\n",
       "      claim_amount  total_policy_claims fraudulent  flag  \n",
       "0              NaN                  1.0        Yes   0.0  \n",
       "1          39192.0                  1.0        Yes   0.0  \n",
       "2           1621.5                  2.0        Yes   NaN  \n",
       "3          37040.0                  1.0         No   1.0  \n",
       "4          35250.0                  3.0         No   0.0  \n",
       "...            ...                  ...        ...   ...  \n",
       "1080       21480.0                  1.0         No   0.0  \n",
       "1081       14360.0                  1.0         No   1.0  \n",
       "1082        1242.0                  1.0        Yes   0.0  \n",
       "1083        2415.0                  2.0        Yes   0.0  \n",
       "1084        2310.0                  1.0         No   0.0  \n",
       "\n",
       "[1085 rows x 14 columns]"
      ]
     },
     "execution_count": 8,
     "metadata": {},
     "output_type": "execute_result"
    }
   ],
   "source": [
    "df = df.groupby('CUST_ID').first().reset_index(drop = True)\n",
    "df"
   ]
  },
  {
   "cell_type": "markdown",
   "id": "7cc1f934",
   "metadata": {},
   "source": [
    "6)Check for missing values and impute the missing values with an appropriate value. (mean for continuous and mode for categorical)\n"
   ]
  },
  {
   "cell_type": "code",
   "execution_count": 9,
   "id": "b207b1e2",
   "metadata": {},
   "outputs": [
    {
     "data": {
      "text/plain": [
       "gender                   0\n",
       "DateOfBirth              0\n",
       "State                    0\n",
       "Contact                  0\n",
       "Segment                  0\n",
       "claim_id                 7\n",
       "incident_cause           7\n",
       "claim_date               7\n",
       "claim_area               7\n",
       "claim_type               7\n",
       "claim_amount            72\n",
       "total_policy_claims     17\n",
       "fraudulent               7\n",
       "flag                   299\n",
       "dtype: int64"
      ]
     },
     "execution_count": 9,
     "metadata": {},
     "output_type": "execute_result"
    }
   ],
   "source": [
    "df.isna().sum()"
   ]
  },
  {
   "cell_type": "code",
   "execution_count": 10,
   "id": "05fc7a30",
   "metadata": {},
   "outputs": [],
   "source": [
    "catagorical_col = [\"gender\",\"State\",\"Segment\",\"incident_cause\",\"claim_area\",\"claim_type\",\"fraudulent\",\"flag\"]\n",
    "continious_col = [\"claim_amount\"]"
   ]
  },
  {
   "cell_type": "code",
   "execution_count": 11,
   "id": "3228329a",
   "metadata": {},
   "outputs": [
    {
     "data": {
      "text/html": [
       "<div>\n",
       "<style scoped>\n",
       "    .dataframe tbody tr th:only-of-type {\n",
       "        vertical-align: middle;\n",
       "    }\n",
       "\n",
       "    .dataframe tbody tr th {\n",
       "        vertical-align: top;\n",
       "    }\n",
       "\n",
       "    .dataframe thead th {\n",
       "        text-align: right;\n",
       "    }\n",
       "</style>\n",
       "<table border=\"1\" class=\"dataframe\">\n",
       "  <thead>\n",
       "    <tr style=\"text-align: right;\">\n",
       "      <th></th>\n",
       "      <th>gender</th>\n",
       "      <th>DateOfBirth</th>\n",
       "      <th>State</th>\n",
       "      <th>Contact</th>\n",
       "      <th>Segment</th>\n",
       "      <th>claim_id</th>\n",
       "      <th>incident_cause</th>\n",
       "      <th>claim_date</th>\n",
       "      <th>claim_area</th>\n",
       "      <th>claim_type</th>\n",
       "      <th>claim_amount</th>\n",
       "      <th>total_policy_claims</th>\n",
       "      <th>fraudulent</th>\n",
       "      <th>flag</th>\n",
       "    </tr>\n",
       "  </thead>\n",
       "  <tbody>\n",
       "    <tr>\n",
       "      <th>0</th>\n",
       "      <td>Female</td>\n",
       "      <td>1978-05-23</td>\n",
       "      <td>DE</td>\n",
       "      <td>9.628791e+09</td>\n",
       "      <td>Platinum</td>\n",
       "      <td>69348631.0</td>\n",
       "      <td>Driver error</td>\n",
       "      <td>2018-04-10</td>\n",
       "      <td>Auto</td>\n",
       "      <td>Injury only</td>\n",
       "      <td>12470.501953</td>\n",
       "      <td>1.0</td>\n",
       "      <td>Yes</td>\n",
       "      <td>0.0</td>\n",
       "    </tr>\n",
       "    <tr>\n",
       "      <th>1</th>\n",
       "      <td>Male</td>\n",
       "      <td>1972-12-20</td>\n",
       "      <td>TX</td>\n",
       "      <td>1.738926e+09</td>\n",
       "      <td>Silver</td>\n",
       "      <td>40953049.0</td>\n",
       "      <td>Other causes</td>\n",
       "      <td>2018-04-04</td>\n",
       "      <td>Auto</td>\n",
       "      <td>Material and injury</td>\n",
       "      <td>39192.000000</td>\n",
       "      <td>1.0</td>\n",
       "      <td>Yes</td>\n",
       "      <td>0.0</td>\n",
       "    </tr>\n",
       "    <tr>\n",
       "      <th>2</th>\n",
       "      <td>Male</td>\n",
       "      <td>1988-07-28</td>\n",
       "      <td>FL</td>\n",
       "      <td>3.645981e+09</td>\n",
       "      <td>Silver</td>\n",
       "      <td>45780237.0</td>\n",
       "      <td>Natural causes</td>\n",
       "      <td>2017-10-17</td>\n",
       "      <td>Auto</td>\n",
       "      <td>Material only</td>\n",
       "      <td>1621.500000</td>\n",
       "      <td>2.0</td>\n",
       "      <td>Yes</td>\n",
       "      <td>0.0</td>\n",
       "    </tr>\n",
       "    <tr>\n",
       "      <th>3</th>\n",
       "      <td>Male</td>\n",
       "      <td>1971-08-19</td>\n",
       "      <td>CA</td>\n",
       "      <td>1.873488e+09</td>\n",
       "      <td>Gold</td>\n",
       "      <td>89833962.0</td>\n",
       "      <td>Other causes</td>\n",
       "      <td>2018-03-21</td>\n",
       "      <td>Auto</td>\n",
       "      <td>Material and injury</td>\n",
       "      <td>37040.000000</td>\n",
       "      <td>1.0</td>\n",
       "      <td>No</td>\n",
       "      <td>1.0</td>\n",
       "    </tr>\n",
       "    <tr>\n",
       "      <th>4</th>\n",
       "      <td>Female</td>\n",
       "      <td>1980-08-10</td>\n",
       "      <td>NC</td>\n",
       "      <td>7.988625e+09</td>\n",
       "      <td>Gold</td>\n",
       "      <td>35782742.0</td>\n",
       "      <td>Other driver error</td>\n",
       "      <td>2018-07-27</td>\n",
       "      <td>Auto</td>\n",
       "      <td>Injury only</td>\n",
       "      <td>35250.000000</td>\n",
       "      <td>3.0</td>\n",
       "      <td>No</td>\n",
       "      <td>0.0</td>\n",
       "    </tr>\n",
       "  </tbody>\n",
       "</table>\n",
       "</div>"
      ],
      "text/plain": [
       "   gender DateOfBirth State       Contact   Segment    claim_id  \\\n",
       "0  Female  1978-05-23    DE  9.628791e+09  Platinum  69348631.0   \n",
       "1    Male  1972-12-20    TX  1.738926e+09    Silver  40953049.0   \n",
       "2    Male  1988-07-28    FL  3.645981e+09    Silver  45780237.0   \n",
       "3    Male  1971-08-19    CA  1.873488e+09      Gold  89833962.0   \n",
       "4  Female  1980-08-10    NC  7.988625e+09      Gold  35782742.0   \n",
       "\n",
       "       incident_cause claim_date claim_area           claim_type  \\\n",
       "0        Driver error 2018-04-10       Auto          Injury only   \n",
       "1        Other causes 2018-04-04       Auto  Material and injury   \n",
       "2      Natural causes 2017-10-17       Auto        Material only   \n",
       "3        Other causes 2018-03-21       Auto  Material and injury   \n",
       "4  Other driver error 2018-07-27       Auto          Injury only   \n",
       "\n",
       "   claim_amount  total_policy_claims fraudulent  flag  \n",
       "0  12470.501953                  1.0        Yes   0.0  \n",
       "1  39192.000000                  1.0        Yes   0.0  \n",
       "2   1621.500000                  2.0        Yes   0.0  \n",
       "3  37040.000000                  1.0         No   1.0  \n",
       "4  35250.000000                  3.0         No   0.0  "
      ]
     },
     "execution_count": 11,
     "metadata": {},
     "output_type": "execute_result"
    }
   ],
   "source": [
    "for col in catagorical_col:\n",
    "    df[col] = df[col].fillna(df[col].mode()[0])\n",
    "df[continious_col] = df[continious_col].fillna(df[continious_col].mean())\n",
    "df.head()"
   ]
  },
  {
   "cell_type": "code",
   "execution_count": 12,
   "id": "52dc8818",
   "metadata": {},
   "outputs": [
    {
     "data": {
      "text/plain": [
       "gender                  0\n",
       "DateOfBirth             0\n",
       "State                   0\n",
       "Contact                 0\n",
       "Segment                 0\n",
       "claim_id                7\n",
       "incident_cause          0\n",
       "claim_date              7\n",
       "claim_area              0\n",
       "claim_type              0\n",
       "claim_amount            0\n",
       "total_policy_claims    17\n",
       "fraudulent              0\n",
       "flag                    0\n",
       "dtype: int64"
      ]
     },
     "execution_count": 12,
     "metadata": {},
     "output_type": "execute_result"
    }
   ],
   "source": [
    "df.isna().sum()"
   ]
  },
  {
   "cell_type": "markdown",
   "id": "50b3b8c9",
   "metadata": {},
   "source": [
    "7)Calculate the age of customers in years. Based on the age, categorize the customers according to the below criteria Children < 18 Youth 18-30 Adult 30-60 Senior > 60"
   ]
  },
  {
   "cell_type": "code",
   "execution_count": 13,
   "id": "ad735c78",
   "metadata": {},
   "outputs": [],
   "source": [
    "df[\"Age\"] = round((df.claim_date - df.DateOfBirth).apply(lambda x: x.days)/365.25, 0)"
   ]
  },
  {
   "cell_type": "code",
   "execution_count": 14,
   "id": "d1113bd5",
   "metadata": {},
   "outputs": [
    {
     "data": {
      "text/html": [
       "<div>\n",
       "<style scoped>\n",
       "    .dataframe tbody tr th:only-of-type {\n",
       "        vertical-align: middle;\n",
       "    }\n",
       "\n",
       "    .dataframe tbody tr th {\n",
       "        vertical-align: top;\n",
       "    }\n",
       "\n",
       "    .dataframe thead th {\n",
       "        text-align: right;\n",
       "    }\n",
       "</style>\n",
       "<table border=\"1\" class=\"dataframe\">\n",
       "  <thead>\n",
       "    <tr style=\"text-align: right;\">\n",
       "      <th></th>\n",
       "      <th>gender</th>\n",
       "      <th>DateOfBirth</th>\n",
       "      <th>State</th>\n",
       "      <th>Contact</th>\n",
       "      <th>Segment</th>\n",
       "      <th>claim_id</th>\n",
       "      <th>incident_cause</th>\n",
       "      <th>claim_date</th>\n",
       "      <th>claim_area</th>\n",
       "      <th>claim_type</th>\n",
       "      <th>claim_amount</th>\n",
       "      <th>total_policy_claims</th>\n",
       "      <th>fraudulent</th>\n",
       "      <th>flag</th>\n",
       "      <th>Age</th>\n",
       "    </tr>\n",
       "  </thead>\n",
       "  <tbody>\n",
       "    <tr>\n",
       "      <th>0</th>\n",
       "      <td>Female</td>\n",
       "      <td>1978-05-23</td>\n",
       "      <td>DE</td>\n",
       "      <td>9.628791e+09</td>\n",
       "      <td>Platinum</td>\n",
       "      <td>69348631.0</td>\n",
       "      <td>Driver error</td>\n",
       "      <td>2018-04-10</td>\n",
       "      <td>Auto</td>\n",
       "      <td>Injury only</td>\n",
       "      <td>12470.501953</td>\n",
       "      <td>1.0</td>\n",
       "      <td>Yes</td>\n",
       "      <td>0.0</td>\n",
       "      <td>40.0</td>\n",
       "    </tr>\n",
       "    <tr>\n",
       "      <th>1</th>\n",
       "      <td>Male</td>\n",
       "      <td>1972-12-20</td>\n",
       "      <td>TX</td>\n",
       "      <td>1.738926e+09</td>\n",
       "      <td>Silver</td>\n",
       "      <td>40953049.0</td>\n",
       "      <td>Other causes</td>\n",
       "      <td>2018-04-04</td>\n",
       "      <td>Auto</td>\n",
       "      <td>Material and injury</td>\n",
       "      <td>39192.000000</td>\n",
       "      <td>1.0</td>\n",
       "      <td>Yes</td>\n",
       "      <td>0.0</td>\n",
       "      <td>45.0</td>\n",
       "    </tr>\n",
       "    <tr>\n",
       "      <th>2</th>\n",
       "      <td>Male</td>\n",
       "      <td>1988-07-28</td>\n",
       "      <td>FL</td>\n",
       "      <td>3.645981e+09</td>\n",
       "      <td>Silver</td>\n",
       "      <td>45780237.0</td>\n",
       "      <td>Natural causes</td>\n",
       "      <td>2017-10-17</td>\n",
       "      <td>Auto</td>\n",
       "      <td>Material only</td>\n",
       "      <td>1621.500000</td>\n",
       "      <td>2.0</td>\n",
       "      <td>Yes</td>\n",
       "      <td>0.0</td>\n",
       "      <td>29.0</td>\n",
       "    </tr>\n",
       "    <tr>\n",
       "      <th>3</th>\n",
       "      <td>Male</td>\n",
       "      <td>1971-08-19</td>\n",
       "      <td>CA</td>\n",
       "      <td>1.873488e+09</td>\n",
       "      <td>Gold</td>\n",
       "      <td>89833962.0</td>\n",
       "      <td>Other causes</td>\n",
       "      <td>2018-03-21</td>\n",
       "      <td>Auto</td>\n",
       "      <td>Material and injury</td>\n",
       "      <td>37040.000000</td>\n",
       "      <td>1.0</td>\n",
       "      <td>No</td>\n",
       "      <td>1.0</td>\n",
       "      <td>47.0</td>\n",
       "    </tr>\n",
       "    <tr>\n",
       "      <th>4</th>\n",
       "      <td>Female</td>\n",
       "      <td>1980-08-10</td>\n",
       "      <td>NC</td>\n",
       "      <td>7.988625e+09</td>\n",
       "      <td>Gold</td>\n",
       "      <td>35782742.0</td>\n",
       "      <td>Other driver error</td>\n",
       "      <td>2018-07-27</td>\n",
       "      <td>Auto</td>\n",
       "      <td>Injury only</td>\n",
       "      <td>35250.000000</td>\n",
       "      <td>3.0</td>\n",
       "      <td>No</td>\n",
       "      <td>0.0</td>\n",
       "      <td>38.0</td>\n",
       "    </tr>\n",
       "    <tr>\n",
       "      <th>...</th>\n",
       "      <td>...</td>\n",
       "      <td>...</td>\n",
       "      <td>...</td>\n",
       "      <td>...</td>\n",
       "      <td>...</td>\n",
       "      <td>...</td>\n",
       "      <td>...</td>\n",
       "      <td>...</td>\n",
       "      <td>...</td>\n",
       "      <td>...</td>\n",
       "      <td>...</td>\n",
       "      <td>...</td>\n",
       "      <td>...</td>\n",
       "      <td>...</td>\n",
       "      <td>...</td>\n",
       "    </tr>\n",
       "    <tr>\n",
       "      <th>1080</th>\n",
       "      <td>Male</td>\n",
       "      <td>1965-01-28</td>\n",
       "      <td>UT</td>\n",
       "      <td>5.175625e+09</td>\n",
       "      <td>Silver</td>\n",
       "      <td>4549014.0</td>\n",
       "      <td>Other causes</td>\n",
       "      <td>2018-07-07</td>\n",
       "      <td>Auto</td>\n",
       "      <td>Injury only</td>\n",
       "      <td>21480.000000</td>\n",
       "      <td>1.0</td>\n",
       "      <td>No</td>\n",
       "      <td>0.0</td>\n",
       "      <td>53.0</td>\n",
       "    </tr>\n",
       "    <tr>\n",
       "      <th>1081</th>\n",
       "      <td>Female</td>\n",
       "      <td>1966-06-19</td>\n",
       "      <td>HI</td>\n",
       "      <td>4.577521e+09</td>\n",
       "      <td>Gold</td>\n",
       "      <td>35453672.0</td>\n",
       "      <td>Natural causes</td>\n",
       "      <td>2018-01-06</td>\n",
       "      <td>Auto</td>\n",
       "      <td>Material and injury</td>\n",
       "      <td>14360.000000</td>\n",
       "      <td>1.0</td>\n",
       "      <td>No</td>\n",
       "      <td>1.0</td>\n",
       "      <td>52.0</td>\n",
       "    </tr>\n",
       "    <tr>\n",
       "      <th>1082</th>\n",
       "      <td>Female</td>\n",
       "      <td>1963-11-18</td>\n",
       "      <td>NC</td>\n",
       "      <td>6.432465e+09</td>\n",
       "      <td>Silver</td>\n",
       "      <td>37305754.0</td>\n",
       "      <td>Natural causes</td>\n",
       "      <td>2018-04-04</td>\n",
       "      <td>Auto</td>\n",
       "      <td>Material only</td>\n",
       "      <td>1242.000000</td>\n",
       "      <td>1.0</td>\n",
       "      <td>Yes</td>\n",
       "      <td>0.0</td>\n",
       "      <td>54.0</td>\n",
       "    </tr>\n",
       "    <tr>\n",
       "      <th>1083</th>\n",
       "      <td>Male</td>\n",
       "      <td>1995-06-08</td>\n",
       "      <td>OR</td>\n",
       "      <td>3.952466e+09</td>\n",
       "      <td>Gold</td>\n",
       "      <td>22960702.0</td>\n",
       "      <td>Driver error</td>\n",
       "      <td>2017-11-13</td>\n",
       "      <td>Auto</td>\n",
       "      <td>Material only</td>\n",
       "      <td>2415.000000</td>\n",
       "      <td>2.0</td>\n",
       "      <td>Yes</td>\n",
       "      <td>0.0</td>\n",
       "      <td>22.0</td>\n",
       "    </tr>\n",
       "    <tr>\n",
       "      <th>1084</th>\n",
       "      <td>Male</td>\n",
       "      <td>1995-06-10</td>\n",
       "      <td>AL</td>\n",
       "      <td>2.349433e+09</td>\n",
       "      <td>Platinum</td>\n",
       "      <td>47262068.0</td>\n",
       "      <td>Driver error</td>\n",
       "      <td>2018-10-23</td>\n",
       "      <td>Home</td>\n",
       "      <td>Material only</td>\n",
       "      <td>2310.000000</td>\n",
       "      <td>1.0</td>\n",
       "      <td>No</td>\n",
       "      <td>0.0</td>\n",
       "      <td>23.0</td>\n",
       "    </tr>\n",
       "  </tbody>\n",
       "</table>\n",
       "<p>1085 rows × 15 columns</p>\n",
       "</div>"
      ],
      "text/plain": [
       "      gender DateOfBirth State       Contact   Segment    claim_id  \\\n",
       "0     Female  1978-05-23    DE  9.628791e+09  Platinum  69348631.0   \n",
       "1       Male  1972-12-20    TX  1.738926e+09    Silver  40953049.0   \n",
       "2       Male  1988-07-28    FL  3.645981e+09    Silver  45780237.0   \n",
       "3       Male  1971-08-19    CA  1.873488e+09      Gold  89833962.0   \n",
       "4     Female  1980-08-10    NC  7.988625e+09      Gold  35782742.0   \n",
       "...      ...         ...   ...           ...       ...         ...   \n",
       "1080    Male  1965-01-28    UT  5.175625e+09    Silver   4549014.0   \n",
       "1081  Female  1966-06-19    HI  4.577521e+09      Gold  35453672.0   \n",
       "1082  Female  1963-11-18    NC  6.432465e+09    Silver  37305754.0   \n",
       "1083    Male  1995-06-08    OR  3.952466e+09      Gold  22960702.0   \n",
       "1084    Male  1995-06-10    AL  2.349433e+09  Platinum  47262068.0   \n",
       "\n",
       "          incident_cause claim_date claim_area           claim_type  \\\n",
       "0           Driver error 2018-04-10       Auto          Injury only   \n",
       "1           Other causes 2018-04-04       Auto  Material and injury   \n",
       "2         Natural causes 2017-10-17       Auto        Material only   \n",
       "3           Other causes 2018-03-21       Auto  Material and injury   \n",
       "4     Other driver error 2018-07-27       Auto          Injury only   \n",
       "...                  ...        ...        ...                  ...   \n",
       "1080        Other causes 2018-07-07       Auto          Injury only   \n",
       "1081      Natural causes 2018-01-06       Auto  Material and injury   \n",
       "1082      Natural causes 2018-04-04       Auto        Material only   \n",
       "1083        Driver error 2017-11-13       Auto        Material only   \n",
       "1084        Driver error 2018-10-23       Home        Material only   \n",
       "\n",
       "      claim_amount  total_policy_claims fraudulent  flag   Age  \n",
       "0     12470.501953                  1.0        Yes   0.0  40.0  \n",
       "1     39192.000000                  1.0        Yes   0.0  45.0  \n",
       "2      1621.500000                  2.0        Yes   0.0  29.0  \n",
       "3     37040.000000                  1.0         No   1.0  47.0  \n",
       "4     35250.000000                  3.0         No   0.0  38.0  \n",
       "...            ...                  ...        ...   ...   ...  \n",
       "1080  21480.000000                  1.0         No   0.0  53.0  \n",
       "1081  14360.000000                  1.0         No   1.0  52.0  \n",
       "1082   1242.000000                  1.0        Yes   0.0  54.0  \n",
       "1083   2415.000000                  2.0        Yes   0.0  22.0  \n",
       "1084   2310.000000                  1.0         No   0.0  23.0  \n",
       "\n",
       "[1085 rows x 15 columns]"
      ]
     },
     "execution_count": 14,
     "metadata": {},
     "output_type": "execute_result"
    }
   ],
   "source": [
    "df"
   ]
  },
  {
   "cell_type": "code",
   "execution_count": 15,
   "id": "835e9525",
   "metadata": {},
   "outputs": [
    {
     "data": {
      "text/html": [
       "<div>\n",
       "<style scoped>\n",
       "    .dataframe tbody tr th:only-of-type {\n",
       "        vertical-align: middle;\n",
       "    }\n",
       "\n",
       "    .dataframe tbody tr th {\n",
       "        vertical-align: top;\n",
       "    }\n",
       "\n",
       "    .dataframe thead th {\n",
       "        text-align: right;\n",
       "    }\n",
       "</style>\n",
       "<table border=\"1\" class=\"dataframe\">\n",
       "  <thead>\n",
       "    <tr style=\"text-align: right;\">\n",
       "      <th></th>\n",
       "      <th>gender</th>\n",
       "      <th>DateOfBirth</th>\n",
       "      <th>State</th>\n",
       "      <th>Contact</th>\n",
       "      <th>Segment</th>\n",
       "      <th>claim_id</th>\n",
       "      <th>incident_cause</th>\n",
       "      <th>claim_date</th>\n",
       "      <th>claim_area</th>\n",
       "      <th>claim_type</th>\n",
       "      <th>claim_amount</th>\n",
       "      <th>total_policy_claims</th>\n",
       "      <th>fraudulent</th>\n",
       "      <th>flag</th>\n",
       "      <th>Age</th>\n",
       "    </tr>\n",
       "    <tr>\n",
       "      <th>Age_grp</th>\n",
       "      <th></th>\n",
       "      <th></th>\n",
       "      <th></th>\n",
       "      <th></th>\n",
       "      <th></th>\n",
       "      <th></th>\n",
       "      <th></th>\n",
       "      <th></th>\n",
       "      <th></th>\n",
       "      <th></th>\n",
       "      <th></th>\n",
       "      <th></th>\n",
       "      <th></th>\n",
       "      <th></th>\n",
       "      <th></th>\n",
       "    </tr>\n",
       "  </thead>\n",
       "  <tbody>\n",
       "    <tr>\n",
       "      <th>Adult</th>\n",
       "      <td>758</td>\n",
       "      <td>758</td>\n",
       "      <td>758</td>\n",
       "      <td>758</td>\n",
       "      <td>758</td>\n",
       "      <td>758</td>\n",
       "      <td>758</td>\n",
       "      <td>758</td>\n",
       "      <td>758</td>\n",
       "      <td>758</td>\n",
       "      <td>758</td>\n",
       "      <td>750</td>\n",
       "      <td>758</td>\n",
       "      <td>758</td>\n",
       "      <td>758</td>\n",
       "    </tr>\n",
       "    <tr>\n",
       "      <th>Children</th>\n",
       "      <td>2</td>\n",
       "      <td>2</td>\n",
       "      <td>2</td>\n",
       "      <td>2</td>\n",
       "      <td>2</td>\n",
       "      <td>2</td>\n",
       "      <td>2</td>\n",
       "      <td>2</td>\n",
       "      <td>2</td>\n",
       "      <td>2</td>\n",
       "      <td>2</td>\n",
       "      <td>2</td>\n",
       "      <td>2</td>\n",
       "      <td>2</td>\n",
       "      <td>2</td>\n",
       "    </tr>\n",
       "    <tr>\n",
       "      <th>NaN</th>\n",
       "      <td>7</td>\n",
       "      <td>7</td>\n",
       "      <td>7</td>\n",
       "      <td>7</td>\n",
       "      <td>7</td>\n",
       "      <td>0</td>\n",
       "      <td>7</td>\n",
       "      <td>0</td>\n",
       "      <td>7</td>\n",
       "      <td>7</td>\n",
       "      <td>7</td>\n",
       "      <td>0</td>\n",
       "      <td>7</td>\n",
       "      <td>7</td>\n",
       "      <td>0</td>\n",
       "    </tr>\n",
       "    <tr>\n",
       "      <th>Youth</th>\n",
       "      <td>318</td>\n",
       "      <td>318</td>\n",
       "      <td>318</td>\n",
       "      <td>318</td>\n",
       "      <td>318</td>\n",
       "      <td>318</td>\n",
       "      <td>318</td>\n",
       "      <td>318</td>\n",
       "      <td>318</td>\n",
       "      <td>318</td>\n",
       "      <td>318</td>\n",
       "      <td>316</td>\n",
       "      <td>318</td>\n",
       "      <td>318</td>\n",
       "      <td>318</td>\n",
       "    </tr>\n",
       "  </tbody>\n",
       "</table>\n",
       "</div>"
      ],
      "text/plain": [
       "          gender  DateOfBirth  State  Contact  Segment  claim_id  \\\n",
       "Age_grp                                                            \n",
       "Adult        758          758    758      758      758       758   \n",
       "Children       2            2      2        2        2         2   \n",
       "NaN            7            7      7        7        7         0   \n",
       "Youth        318          318    318      318      318       318   \n",
       "\n",
       "          incident_cause  claim_date  claim_area  claim_type  claim_amount  \\\n",
       "Age_grp                                                                      \n",
       "Adult                758         758         758         758           758   \n",
       "Children               2           2           2           2             2   \n",
       "NaN                    7           0           7           7             7   \n",
       "Youth                318         318         318         318           318   \n",
       "\n",
       "          total_policy_claims  fraudulent  flag  Age  \n",
       "Age_grp                                               \n",
       "Adult                     750         758   758  758  \n",
       "Children                    2           2     2    2  \n",
       "NaN                         0           7     7    0  \n",
       "Youth                     316         318   318  318  "
      ]
     },
     "execution_count": 15,
     "metadata": {},
     "output_type": "execute_result"
    }
   ],
   "source": [
    "df[\"Age_grp\"] = IF(df.Age < 18, \"Children\",\n",
    "                        IF(df.Age < 30, \"Youth\",\n",
    "                         IF(df.Age < 60, \"Adult\",\n",
    "                          IF(df.Age < 100, \"Senior\", \"NaN\"\n",
    "                           \n",
    "                          )\n",
    "                         )\n",
    "                        )\n",
    "                       )\n",
    "df[\"Age_grp\"] = df[\"Age_grp\"].fillna(df[\"Age_grp\"].mode())\n",
    "df.groupby(by = \"Age_grp\").count()"
   ]
  },
  {
   "cell_type": "markdown",
   "id": "822faacf",
   "metadata": {},
   "source": [
    "8)What is the average amount claimed by the customers from various segments?\n"
   ]
  },
  {
   "cell_type": "code",
   "execution_count": 16,
   "id": "e6cc0ccb",
   "metadata": {},
   "outputs": [
    {
     "data": {
      "text/html": [
       "<div>\n",
       "<style scoped>\n",
       "    .dataframe tbody tr th:only-of-type {\n",
       "        vertical-align: middle;\n",
       "    }\n",
       "\n",
       "    .dataframe tbody tr th {\n",
       "        vertical-align: top;\n",
       "    }\n",
       "\n",
       "    .dataframe thead th {\n",
       "        text-align: right;\n",
       "    }\n",
       "</style>\n",
       "<table border=\"1\" class=\"dataframe\">\n",
       "  <thead>\n",
       "    <tr style=\"text-align: right;\">\n",
       "      <th></th>\n",
       "      <th>claim_amount</th>\n",
       "    </tr>\n",
       "    <tr>\n",
       "      <th>Segment</th>\n",
       "      <th></th>\n",
       "    </tr>\n",
       "  </thead>\n",
       "  <tbody>\n",
       "    <tr>\n",
       "      <th>Gold</th>\n",
       "      <td>12755.710938</td>\n",
       "    </tr>\n",
       "    <tr>\n",
       "      <th>Platinum</th>\n",
       "      <td>12370.138672</td>\n",
       "    </tr>\n",
       "    <tr>\n",
       "      <th>Silver</th>\n",
       "      <td>12271.163086</td>\n",
       "    </tr>\n",
       "  </tbody>\n",
       "</table>\n",
       "</div>"
      ],
      "text/plain": [
       "          claim_amount\n",
       "Segment               \n",
       "Gold      12755.710938\n",
       "Platinum  12370.138672\n",
       "Silver    12271.163086"
      ]
     },
     "execution_count": 16,
     "metadata": {},
     "output_type": "execute_result"
    }
   ],
   "source": [
    "df.groupby(by = \"Segment\")[[\"claim_amount\"]].mean()"
   ]
  },
  {
   "cell_type": "markdown",
   "id": "aae37a51",
   "metadata": {},
   "source": [
    "9)What is the total claim amount based on incident cause for all the claims that have been done at least 20 days prior to 1st of October, 2018.\n"
   ]
  },
  {
   "cell_type": "code",
   "execution_count": 17,
   "id": "5375c16d",
   "metadata": {},
   "outputs": [
    {
     "data": {
      "text/plain": [
       "incident_cause\n",
       "total_Crime                  724462.5\n",
       "total_Driver error          3264286.0\n",
       "total_Natural causes        1312706.0\n",
       "total_Other causes          3725038.5\n",
       "total_Other driver error    3318806.5\n",
       "Name: claim_amount, dtype: float32"
      ]
     },
     "execution_count": 17,
     "metadata": {},
     "output_type": "execute_result"
    }
   ],
   "source": [
    "\n",
    "df.loc[df.claim_date < \"2018-09-10\",:].groupby(\"incident_cause\")[\"claim_amount\"].sum().add_prefix(\"total_\")"
   ]
  },
  {
   "cell_type": "markdown",
   "id": "feb79b49",
   "metadata": {},
   "source": [
    "10)How many adults from TX, DE and AK claimed insurance for driver related issues and causes?\n"
   ]
  },
  {
   "cell_type": "code",
   "execution_count": 18,
   "id": "c97cb4bc",
   "metadata": {},
   "outputs": [
    {
     "data": {
      "text/plain": [
       "State\n",
       "AK    10\n",
       "DE    15\n",
       "TX    10\n",
       "Name: State, dtype: int64"
      ]
     },
     "execution_count": 18,
     "metadata": {},
     "output_type": "execute_result"
    }
   ],
   "source": [
    "df.loc[(df.incident_cause.str.lower().str.contains(\"driver\") \n",
    "    & ((df.State == \"TX\") | (df.State == \"DE\") | (df.State == \"AK\"))),:].groupby(by = \"State\")[\"State\"].count()"
   ]
  },
  {
   "cell_type": "markdown",
   "id": "d1d30aa3",
   "metadata": {},
   "source": [
    "11)Draw a pie chart between the aggregated value of claim amount based on gender and segment. Represent the claim amount as a percentage on the pie chart.\n"
   ]
  },
  {
   "cell_type": "code",
   "execution_count": 19,
   "id": "14684b8e",
   "metadata": {},
   "outputs": [],
   "source": [
    "gender_segment = df.groupby(by = [\"gender\",\"Segment\"])[\"claim_amount\"].sum().reset_index()"
   ]
  },
  {
   "cell_type": "code",
   "execution_count": 20,
   "id": "88c7201b",
   "metadata": {},
   "outputs": [],
   "source": [
    "gender_segment = gender_segment.pivot(index = \"Segment\", columns = \"gender\", values = \"claim_amount\")"
   ]
  },
  {
   "cell_type": "code",
   "execution_count": 21,
   "id": "f6c6a760",
   "metadata": {},
   "outputs": [
    {
     "data": {
      "text/html": [
       "<div>\n",
       "<style scoped>\n",
       "    .dataframe tbody tr th:only-of-type {\n",
       "        vertical-align: middle;\n",
       "    }\n",
       "\n",
       "    .dataframe tbody tr th {\n",
       "        vertical-align: top;\n",
       "    }\n",
       "\n",
       "    .dataframe thead th {\n",
       "        text-align: right;\n",
       "    }\n",
       "</style>\n",
       "<table border=\"1\" class=\"dataframe\">\n",
       "  <thead>\n",
       "    <tr style=\"text-align: right;\">\n",
       "      <th>gender</th>\n",
       "      <th>Female</th>\n",
       "      <th>Male</th>\n",
       "    </tr>\n",
       "    <tr>\n",
       "      <th>Segment</th>\n",
       "      <th></th>\n",
       "      <th></th>\n",
       "    </tr>\n",
       "  </thead>\n",
       "  <tbody>\n",
       "    <tr>\n",
       "      <th>Gold</th>\n",
       "      <td>2122234.0</td>\n",
       "      <td>2622890.5</td>\n",
       "    </tr>\n",
       "    <tr>\n",
       "      <th>Platinum</th>\n",
       "      <td>2381974.0</td>\n",
       "      <td>2120756.5</td>\n",
       "    </tr>\n",
       "    <tr>\n",
       "      <th>Silver</th>\n",
       "      <td>1935970.0</td>\n",
       "      <td>2346666.0</td>\n",
       "    </tr>\n",
       "  </tbody>\n",
       "</table>\n",
       "</div>"
      ],
      "text/plain": [
       "gender       Female       Male\n",
       "Segment                       \n",
       "Gold      2122234.0  2622890.5\n",
       "Platinum  2381974.0  2120756.5\n",
       "Silver    1935970.0  2346666.0"
      ]
     },
     "execution_count": 21,
     "metadata": {},
     "output_type": "execute_result"
    }
   ],
   "source": [
    "gender_segment"
   ]
  },
  {
   "cell_type": "code",
   "execution_count": 22,
   "id": "e65e6385",
   "metadata": {},
   "outputs": [
    {
     "data": {
      "image/png": "[encoded data removed]",
      "text/plain": [
       "<Figure size 1440x576 with 3 Axes>"
      ]
     },
     "metadata": {},
     "output_type": "display_data"
    }
   ],
   "source": [
    "gender_segment.T.plot(kind = \"pie\", subplots = True, legend = False, figsize = (20,8),colors=( \"blue\", \"red\"),wedgeprops = { 'linewidth' : 3, 'edgecolor' : 'white' },)\n",
    "plt.show()"
   ]
  },
  {
   "cell_type": "markdown",
   "id": "02973372",
   "metadata": {},
   "source": [
    "12)Among males and females, which gender had claimed the most for any type of driver related issues? E.g. This metric can be compared using a bar chart\n",
    "\n"
   ]
  },
  {
   "cell_type": "code",
   "execution_count": 23,
   "id": "628a9b4b",
   "metadata": {},
   "outputs": [
    {
     "data": {
      "text/html": [
       "<div>\n",
       "<style scoped>\n",
       "    .dataframe tbody tr th:only-of-type {\n",
       "        vertical-align: middle;\n",
       "    }\n",
       "\n",
       "    .dataframe tbody tr th {\n",
       "        vertical-align: top;\n",
       "    }\n",
       "\n",
       "    .dataframe thead th {\n",
       "        text-align: right;\n",
       "    }\n",
       "</style>\n",
       "<table border=\"1\" class=\"dataframe\">\n",
       "  <thead>\n",
       "    <tr style=\"text-align: right;\">\n",
       "      <th></th>\n",
       "      <th>gender</th>\n",
       "      <th>gender count</th>\n",
       "    </tr>\n",
       "  </thead>\n",
       "  <tbody>\n",
       "    <tr>\n",
       "      <th>0</th>\n",
       "      <td>Female</td>\n",
       "      <td>221</td>\n",
       "    </tr>\n",
       "    <tr>\n",
       "      <th>1</th>\n",
       "      <td>Male</td>\n",
       "      <td>280</td>\n",
       "    </tr>\n",
       "  </tbody>\n",
       "</table>\n",
       "</div>"
      ],
      "text/plain": [
       "   gender  gender count\n",
       "0  Female           221\n",
       "1    Male           280"
      ]
     },
     "execution_count": 23,
     "metadata": {},
     "output_type": "execute_result"
    }
   ],
   "source": [
    "gender_count = df.loc[(df.incident_cause.str.lower().str.contains(\"driver\"))].groupby(by = \"gender\")[[\"gender\"]].count().add_suffix(\" count\").reset_index()\n",
    "gender_count"
   ]
  },
  {
   "cell_type": "code",
   "execution_count": 24,
   "id": "5726e5cf",
   "metadata": {},
   "outputs": [
    {
     "data": {
      "image/png": "[encoded data removed]",
      "text/plain": [
       "<Figure size 432x288 with 1 Axes>"
      ]
     },
     "metadata": {
      "needs_background": "light"
     },
     "output_type": "display_data"
    }
   ],
   "source": [
    "sns.barplot(x = \"gender\", y = \"gender count\", data = gender_count,color = 'red', palette = ['tab:blue', 'tab:red'] )\n",
    "plt.show()"
   ]
  },
  {
   "cell_type": "markdown",
   "id": "352ac3bb",
   "metadata": {},
   "source": [
    "13)Which age group had the maximum fraudulent policy claims? Visualize it on a bar chart.\n"
   ]
  },
  {
   "cell_type": "code",
   "execution_count": 25,
   "id": "429690e2",
   "metadata": {},
   "outputs": [
    {
     "data": {
      "text/html": [
       "<div>\n",
       "<style scoped>\n",
       "    .dataframe tbody tr th:only-of-type {\n",
       "        vertical-align: middle;\n",
       "    }\n",
       "\n",
       "    .dataframe tbody tr th {\n",
       "        vertical-align: top;\n",
       "    }\n",
       "\n",
       "    .dataframe thead th {\n",
       "        text-align: right;\n",
       "    }\n",
       "</style>\n",
       "<table border=\"1\" class=\"dataframe\">\n",
       "  <thead>\n",
       "    <tr style=\"text-align: right;\">\n",
       "      <th></th>\n",
       "      <th>Age_grp</th>\n",
       "      <th>fraudulent</th>\n",
       "    </tr>\n",
       "  </thead>\n",
       "  <tbody>\n",
       "    <tr>\n",
       "      <th>0</th>\n",
       "      <td>Adult</td>\n",
       "      <td>758</td>\n",
       "    </tr>\n",
       "    <tr>\n",
       "      <th>1</th>\n",
       "      <td>Children</td>\n",
       "      <td>2</td>\n",
       "    </tr>\n",
       "    <tr>\n",
       "      <th>2</th>\n",
       "      <td>NaN</td>\n",
       "      <td>7</td>\n",
       "    </tr>\n",
       "    <tr>\n",
       "      <th>3</th>\n",
       "      <td>Youth</td>\n",
       "      <td>318</td>\n",
       "    </tr>\n",
       "  </tbody>\n",
       "</table>\n",
       "</div>"
      ],
      "text/plain": [
       "    Age_grp  fraudulent\n",
       "0     Adult         758\n",
       "1  Children           2\n",
       "2       NaN           7\n",
       "3     Youth         318"
      ]
     },
     "execution_count": 25,
     "metadata": {},
     "output_type": "execute_result"
    }
   ],
   "source": [
    "Age_Fraud = df.groupby(by = \"Age_grp\")[[\"fraudulent\"]].count().reset_index()\n",
    "Age_Fraud"
   ]
  },
  {
   "cell_type": "code",
   "execution_count": 26,
   "id": "08064df6",
   "metadata": {},
   "outputs": [
    {
     "data": {
      "image/png": "[encoded data removed]",
      "text/plain": [
       "<Figure size 504x396 with 1 Axes>"
      ]
     },
     "metadata": {},
     "output_type": "display_data"
    }
   ],
   "source": [
    "sns.set(rc = {'figure.figsize':(7,5.5)})\n",
    "sns.barplot(x = \"Age_grp\", y = \"fraudulent\", data = Age_Fraud,color = 'blue', palette = ['tab:blue', 'tab:orange', 'tab:red', 'tab:green']) \n",
    "plt.show()"
   ]
  },
  {
   "cell_type": "markdown",
   "id": "782d0ad1",
   "metadata": {},
   "source": [
    "14)Visualize the monthly trend of the total amount that has been claimed by the customers.Ensure that on the \"month\" axis, the month is in a chronological order not alphabetical order\n"
   ]
  },
  {
   "cell_type": "code",
   "execution_count": 27,
   "id": "a6e14fd6",
   "metadata": {},
   "outputs": [
    {
     "data": {
      "text/html": [
       "<div>\n",
       "<style scoped>\n",
       "    .dataframe tbody tr th:only-of-type {\n",
       "        vertical-align: middle;\n",
       "    }\n",
       "\n",
       "    .dataframe tbody tr th {\n",
       "        vertical-align: top;\n",
       "    }\n",
       "\n",
       "    .dataframe thead th {\n",
       "        text-align: right;\n",
       "    }\n",
       "</style>\n",
       "<table border=\"1\" class=\"dataframe\">\n",
       "  <thead>\n",
       "    <tr style=\"text-align: right;\">\n",
       "      <th></th>\n",
       "      <th>Monthly</th>\n",
       "      <th>claim_amount</th>\n",
       "    </tr>\n",
       "  </thead>\n",
       "  <tbody>\n",
       "    <tr>\n",
       "      <th>0</th>\n",
       "      <td>April</td>\n",
       "      <td>1276071.5</td>\n",
       "    </tr>\n",
       "    <tr>\n",
       "      <th>1</th>\n",
       "      <td>August</td>\n",
       "      <td>911203.5</td>\n",
       "    </tr>\n",
       "    <tr>\n",
       "      <th>2</th>\n",
       "      <td>December</td>\n",
       "      <td>696701.5</td>\n",
       "    </tr>\n",
       "    <tr>\n",
       "      <th>3</th>\n",
       "      <td>February</td>\n",
       "      <td>1133107.0</td>\n",
       "    </tr>\n",
       "    <tr>\n",
       "      <th>4</th>\n",
       "      <td>January</td>\n",
       "      <td>1332012.0</td>\n",
       "    </tr>\n",
       "    <tr>\n",
       "      <th>5</th>\n",
       "      <td>July</td>\n",
       "      <td>1379035.0</td>\n",
       "    </tr>\n",
       "    <tr>\n",
       "      <th>6</th>\n",
       "      <td>June</td>\n",
       "      <td>1276333.0</td>\n",
       "    </tr>\n",
       "    <tr>\n",
       "      <th>7</th>\n",
       "      <td>March</td>\n",
       "      <td>1320094.0</td>\n",
       "    </tr>\n",
       "    <tr>\n",
       "      <th>8</th>\n",
       "      <td>May</td>\n",
       "      <td>1114211.5</td>\n",
       "    </tr>\n",
       "    <tr>\n",
       "      <th>9</th>\n",
       "      <td>November</td>\n",
       "      <td>601125.0</td>\n",
       "    </tr>\n",
       "    <tr>\n",
       "      <th>10</th>\n",
       "      <td>October</td>\n",
       "      <td>1422655.5</td>\n",
       "    </tr>\n",
       "    <tr>\n",
       "      <th>11</th>\n",
       "      <td>September</td>\n",
       "      <td>980648.0</td>\n",
       "    </tr>\n",
       "  </tbody>\n",
       "</table>\n",
       "</div>"
      ],
      "text/plain": [
       "      Monthly  claim_amount\n",
       "0       April     1276071.5\n",
       "1      August      911203.5\n",
       "2    December      696701.5\n",
       "3    February     1133107.0\n",
       "4     January     1332012.0\n",
       "5        July     1379035.0\n",
       "6        June     1276333.0\n",
       "7       March     1320094.0\n",
       "8         May     1114211.5\n",
       "9    November      601125.0\n",
       "10    October     1422655.5\n",
       "11  September      980648.0"
      ]
     },
     "execution_count": 27,
     "metadata": {},
     "output_type": "execute_result"
    }
   ],
   "source": [
    "monthly_trend = df.groupby([\"claim_date\"])[[\"claim_amount\"]].sum().reset_index()\n",
    "monthly_trend['Monthly'] = monthly_trend['claim_date'].apply(lambda x:pd.Timestamp.strftime(x,format=\"%B\"))\n",
    "monthly_trend['Yearly'] = monthly_trend['claim_date'].apply(lambda x:pd.Timestamp.strftime(x,format=\"%Y\"))\n",
    "monthly_trend_data = monthly_trend.groupby([\"Monthly\"])[[\"claim_amount\"]].sum().reset_index()\n",
    "monthly_trend_data"
   ]
  },
  {
   "cell_type": "code",
   "execution_count": 28,
   "id": "42653dfe",
   "metadata": {},
   "outputs": [
    {
     "data": {
      "text/plain": [
       "[<matplotlib.lines.Line2D at 0x2563af8b070>]"
      ]
     },
     "execution_count": 28,
     "metadata": {},
     "output_type": "execute_result"
    },
    {
     "data": {
      "image/png": "[encoded data removed]",
      "text/plain": [
       "<Figure size 864x576 with 1 Axes>"
      ]
     },
     "metadata": {},
     "output_type": "display_data"
    }
   ],
   "source": [
    "fig, ax = plt.subplots(figsize=(12, 8))\n",
    "plt.plot(monthly_trend_data['Monthly'], monthly_trend_data['claim_amount'], label = 'Trend Line',color=(\"red\"))"
   ]
  },
  {
   "cell_type": "markdown",
   "id": "ab4f7a2b",
   "metadata": {},
   "source": [
    "15)What is the average claim amount for gender and age categories and suitably represent the above using a facetted bar chart, one facet that represents fraudulent claims and the other for non-fraudulent claims.\n",
    "\n"
   ]
  },
  {
   "cell_type": "code",
   "execution_count": 29,
   "id": "12f19a9e",
   "metadata": {},
   "outputs": [
    {
     "data": {
      "text/html": [
       "<div>\n",
       "<style scoped>\n",
       "    .dataframe tbody tr th:only-of-type {\n",
       "        vertical-align: middle;\n",
       "    }\n",
       "\n",
       "    .dataframe tbody tr th {\n",
       "        vertical-align: top;\n",
       "    }\n",
       "\n",
       "    .dataframe thead th {\n",
       "        text-align: right;\n",
       "    }\n",
       "</style>\n",
       "<table border=\"1\" class=\"dataframe\">\n",
       "  <thead>\n",
       "    <tr style=\"text-align: right;\">\n",
       "      <th></th>\n",
       "      <th>gender</th>\n",
       "      <th>Age_grp</th>\n",
       "      <th>fraudulent</th>\n",
       "      <th>claim_amount</th>\n",
       "    </tr>\n",
       "  </thead>\n",
       "  <tbody>\n",
       "    <tr>\n",
       "      <th>0</th>\n",
       "      <td>Female</td>\n",
       "      <td>Adult</td>\n",
       "      <td>No</td>\n",
       "      <td>12409.596680</td>\n",
       "    </tr>\n",
       "    <tr>\n",
       "      <th>1</th>\n",
       "      <td>Female</td>\n",
       "      <td>Adult</td>\n",
       "      <td>Yes</td>\n",
       "      <td>12348.010742</td>\n",
       "    </tr>\n",
       "    <tr>\n",
       "      <th>2</th>\n",
       "      <td>Female</td>\n",
       "      <td>Children</td>\n",
       "      <td>No</td>\n",
       "      <td>20200.000000</td>\n",
       "    </tr>\n",
       "    <tr>\n",
       "      <th>3</th>\n",
       "      <td>Female</td>\n",
       "      <td>NaN</td>\n",
       "      <td>No</td>\n",
       "      <td>12470.501953</td>\n",
       "    </tr>\n",
       "    <tr>\n",
       "      <th>4</th>\n",
       "      <td>Female</td>\n",
       "      <td>Youth</td>\n",
       "      <td>No</td>\n",
       "      <td>12398.187500</td>\n",
       "    </tr>\n",
       "    <tr>\n",
       "      <th>5</th>\n",
       "      <td>Female</td>\n",
       "      <td>Youth</td>\n",
       "      <td>Yes</td>\n",
       "      <td>7756.771484</td>\n",
       "    </tr>\n",
       "    <tr>\n",
       "      <th>6</th>\n",
       "      <td>Male</td>\n",
       "      <td>Adult</td>\n",
       "      <td>No</td>\n",
       "      <td>12150.460938</td>\n",
       "    </tr>\n",
       "    <tr>\n",
       "      <th>7</th>\n",
       "      <td>Male</td>\n",
       "      <td>Adult</td>\n",
       "      <td>Yes</td>\n",
       "      <td>17062.199219</td>\n",
       "    </tr>\n",
       "    <tr>\n",
       "      <th>8</th>\n",
       "      <td>Male</td>\n",
       "      <td>Children</td>\n",
       "      <td>No</td>\n",
       "      <td>24610.000000</td>\n",
       "    </tr>\n",
       "    <tr>\n",
       "      <th>9</th>\n",
       "      <td>Male</td>\n",
       "      <td>NaN</td>\n",
       "      <td>No</td>\n",
       "      <td>12470.501953</td>\n",
       "    </tr>\n",
       "    <tr>\n",
       "      <th>10</th>\n",
       "      <td>Male</td>\n",
       "      <td>Youth</td>\n",
       "      <td>No</td>\n",
       "      <td>12199.076172</td>\n",
       "    </tr>\n",
       "    <tr>\n",
       "      <th>11</th>\n",
       "      <td>Male</td>\n",
       "      <td>Youth</td>\n",
       "      <td>Yes</td>\n",
       "      <td>10683.552734</td>\n",
       "    </tr>\n",
       "  </tbody>\n",
       "</table>\n",
       "</div>"
      ],
      "text/plain": [
       "    gender   Age_grp fraudulent  claim_amount\n",
       "0   Female     Adult         No  12409.596680\n",
       "1   Female     Adult        Yes  12348.010742\n",
       "2   Female  Children         No  20200.000000\n",
       "3   Female       NaN         No  12470.501953\n",
       "4   Female     Youth         No  12398.187500\n",
       "5   Female     Youth        Yes   7756.771484\n",
       "6     Male     Adult         No  12150.460938\n",
       "7     Male     Adult        Yes  17062.199219\n",
       "8     Male  Children         No  24610.000000\n",
       "9     Male       NaN         No  12470.501953\n",
       "10    Male     Youth         No  12199.076172\n",
       "11    Male     Youth        Yes  10683.552734"
      ]
     },
     "execution_count": 29,
     "metadata": {},
     "output_type": "execute_result"
    }
   ],
   "source": [
    "Avg_Claim = df.groupby([\"gender\",\"Age_grp\",\"fraudulent\"])[[\"claim_amount\"]].mean().reset_index()\n",
    "Avg_Claim"
   ]
  },
  {
   "cell_type": "code",
   "execution_count": 30,
   "id": "56f85ceb",
   "metadata": {},
   "outputs": [],
   "source": [
    "Avg_Claim_Male = Avg_Claim.loc[ Avg_Claim.gender == 'Male', ['claim_amount','Age_grp','fraudulent'] ]\n",
    "Avg_Claim_Female = Avg_Claim.loc[ Avg_Claim.gender == 'Female', ['claim_amount','Age_grp','fraudulent'] ]"
   ]
  },
  {
   "cell_type": "code",
   "execution_count": 31,
   "id": "25861add",
   "metadata": {},
   "outputs": [],
   "source": [
    "Male_fraud = Avg_Claim_Male.loc[ Avg_Claim.fraudulent == 'Yes', ['claim_amount','Age_grp'] ]\n",
    "Male_nonfraud = Avg_Claim_Male.loc[ Avg_Claim.fraudulent == 'No', ['claim_amount','Age_grp'] ]\n",
    "Female_fraud = Avg_Claim_Female.loc[ Avg_Claim.fraudulent == 'Yes', ['claim_amount','Age_grp'] ]\n",
    "Female_nonfraud = Avg_Claim_Female.loc[ Avg_Claim.fraudulent == 'No', ['claim_amount','Age_grp'] ]"
   ]
  },
  {
   "cell_type": "code",
   "execution_count": 32,
   "id": "fc993b4f",
   "metadata": {},
   "outputs": [
    {
     "data": {
      "image/png": "[encoded data removed]",
      "text/plain": [
       "<Figure size 504x396 with 1 Axes>"
      ]
     },
     "metadata": {},
     "output_type": "display_data"
    }
   ],
   "source": [
    "plt.bar(Male_fraud.Age_grp , Male_fraud.claim_amount,color=(\"brown\",\"red\"))\n",
    "plt.title('Avg Claim Amount of Male_fraudulent ')\n",
    "plt.xlabel('Age Group')\n",
    "plt.ylabel('Claim Amount')\n",
    "plt.show()"
   ]
  },
  {
   "cell_type": "code",
   "execution_count": 33,
   "id": "6eacc8f7",
   "metadata": {},
   "outputs": [
    {
     "data": {
      "image/png": "[encoded data removed]",
      "text/plain": [
       "<Figure size 504x396 with 1 Axes>"
      ]
     },
     "metadata": {},
     "output_type": "display_data"
    }
   ],
   "source": [
    "plt.bar(Male_nonfraud.Age_grp , Male_nonfraud.claim_amount,color=(\"#8B0000\",\"#FF6357\",\"#FF4500\",\"#FF0000\"))\n",
    "        \n",
    "plt.title('Avg Claim Amount of Male_nonfraudulent')\n",
    "\n",
    "plt.xlabel('Age Group')\n",
    "plt.ylabel('Claim Amount')\n",
    "plt.show()"
   ]
  },
  {
   "cell_type": "code",
   "execution_count": 34,
   "id": "40739e87",
   "metadata": {},
   "outputs": [
    {
     "data": {
      "image/png": "[encoded data removed]",
      "text/plain": [
       "<Figure size 504x396 with 1 Axes>"
      ]
     },
     "metadata": {},
     "output_type": "display_data"
    }
   ],
   "source": [
    "plt.bar(Female_fraud.Age_grp , Female_fraud.claim_amount,color=(\"#03254c\",\"#1167b1\"))\n",
    "plt.title('Avg Claim Amount Female fraudulent')\n",
    "plt.xlabel('Age Group')\n",
    "plt.ylabel('Claim Amount')\n",
    "plt.show()"
   ]
  },
  {
   "cell_type": "code",
   "execution_count": 35,
   "id": "0bc3dd53",
   "metadata": {},
   "outputs": [
    {
     "data": {
      "image/png": "[encoded data removed]",
      "text/plain": [
       "<Figure size 504x396 with 1 Axes>"
      ]
     },
     "metadata": {},
     "output_type": "display_data"
    }
   ],
   "source": [
    "plt.bar(Female_nonfraud.Age_grp , Female_nonfraud.claim_amount,color=(\"#03254c\",\"#187bcd\",\"#1167b1\",\"#1137b1\"))\n",
    "plt.title('Avg Claim Amount Female Nonfraudulent')\n",
    "plt.xlabel('Age Group')\n",
    "plt.ylabel('Claim Amount')\n",
    "plt.show()"
   ]
  },
  {
   "cell_type": "markdown",
   "id": "2cce2361",
   "metadata": {},
   "source": [
    "16)Is there any similarity in the amount claimed by males and females?\n"
   ]
  },
  {
   "cell_type": "code",
   "execution_count": 36,
   "id": "01179f61",
   "metadata": {},
   "outputs": [
    {
     "data": {
      "text/plain": [
       "Male      553\n",
       "Female    532\n",
       "Name: gender, dtype: int64"
      ]
     },
     "execution_count": 36,
     "metadata": {},
     "output_type": "execute_result"
    }
   ],
   "source": [
    "df.gender.value_counts()"
   ]
  },
  {
   "cell_type": "code",
   "execution_count": 37,
   "id": "475810aa",
   "metadata": {},
   "outputs": [],
   "source": [
    "df_Gender = df.groupby([\"gender\", \"claim_date\"])[[\"claim_amount\"]].sum().reset_index()"
   ]
  },
  {
   "cell_type": "code",
   "execution_count": 38,
   "id": "e783015f",
   "metadata": {},
   "outputs": [],
   "source": [
    "df_Gender['Monthly'] = df_Gender['claim_date'].apply(lambda x:pd.Timestamp.strftime(x,format=\"%B\"))\n",
    "df_Gender['Yearly'] = df_Gender['claim_date'].apply(lambda x:pd.Timestamp.strftime(x,format=\"%Y\"))"
   ]
  },
  {
   "cell_type": "code",
   "execution_count": 39,
   "id": "573e7cc5",
   "metadata": {},
   "outputs": [
    {
     "data": {
      "text/html": [
       "<div>\n",
       "<style scoped>\n",
       "    .dataframe tbody tr th:only-of-type {\n",
       "        vertical-align: middle;\n",
       "    }\n",
       "\n",
       "    .dataframe tbody tr th {\n",
       "        vertical-align: top;\n",
       "    }\n",
       "\n",
       "    .dataframe thead th {\n",
       "        text-align: right;\n",
       "    }\n",
       "</style>\n",
       "<table border=\"1\" class=\"dataframe\">\n",
       "  <thead>\n",
       "    <tr style=\"text-align: right;\">\n",
       "      <th></th>\n",
       "      <th>gender</th>\n",
       "      <th>claim_date</th>\n",
       "      <th>claim_amount</th>\n",
       "      <th>Monthly</th>\n",
       "      <th>Yearly</th>\n",
       "    </tr>\n",
       "  </thead>\n",
       "  <tbody>\n",
       "    <tr>\n",
       "      <th>0</th>\n",
       "      <td>Female</td>\n",
       "      <td>2017-01-01</td>\n",
       "      <td>119620.000000</td>\n",
       "      <td>January</td>\n",
       "      <td>2017</td>\n",
       "    </tr>\n",
       "    <tr>\n",
       "      <th>1</th>\n",
       "      <td>Female</td>\n",
       "      <td>2017-01-07</td>\n",
       "      <td>4576.500000</td>\n",
       "      <td>January</td>\n",
       "      <td>2017</td>\n",
       "    </tr>\n",
       "    <tr>\n",
       "      <th>2</th>\n",
       "      <td>Female</td>\n",
       "      <td>2017-01-14</td>\n",
       "      <td>85203.000000</td>\n",
       "      <td>January</td>\n",
       "      <td>2017</td>\n",
       "    </tr>\n",
       "    <tr>\n",
       "      <th>3</th>\n",
       "      <td>Female</td>\n",
       "      <td>2017-01-21</td>\n",
       "      <td>23379.501953</td>\n",
       "      <td>January</td>\n",
       "      <td>2017</td>\n",
       "    </tr>\n",
       "    <tr>\n",
       "      <th>4</th>\n",
       "      <td>Female</td>\n",
       "      <td>2017-01-27</td>\n",
       "      <td>6507.500000</td>\n",
       "      <td>January</td>\n",
       "      <td>2017</td>\n",
       "    </tr>\n",
       "  </tbody>\n",
       "</table>\n",
       "</div>"
      ],
      "text/plain": [
       "   gender claim_date   claim_amount  Monthly Yearly\n",
       "0  Female 2017-01-01  119620.000000  January   2017\n",
       "1  Female 2017-01-07    4576.500000  January   2017\n",
       "2  Female 2017-01-14   85203.000000  January   2017\n",
       "3  Female 2017-01-21   23379.501953  January   2017\n",
       "4  Female 2017-01-27    6507.500000  January   2017"
      ]
     },
     "execution_count": 39,
     "metadata": {},
     "output_type": "execute_result"
    }
   ],
   "source": [
    "df_Gender.head()"
   ]
  },
  {
   "cell_type": "code",
   "execution_count": 40,
   "id": "8858e59e",
   "metadata": {},
   "outputs": [
    {
     "name": "stdout",
     "output_type": "stream",
     "text": [
      "mean of male spend:  71367.390625 | mean of female spend:  63778.25390625\n"
     ]
    }
   ],
   "source": [
    "Claim_amt = 'claim_amount'\n",
    "\n",
    "male_spend = df_Gender.loc[ df_Gender.gender == \"Male\", Claim_amt ]\n",
    "female_spend = df_Gender.loc[df_Gender.gender == \"Female\", Claim_amt ]\n",
    "\n",
    "print( 'mean of male spend: ', male_spend.mean(), '| mean of female spend: ', female_spend.mean() )"
   ]
  },
  {
   "cell_type": "code",
   "execution_count": 41,
   "id": "d1c64d7c",
   "metadata": {},
   "outputs": [
    {
     "data": {
      "text/plain": [
       "Ttest_indResult(statistic=1.3269766899056947, pvalue=0.18605236930923746)"
      ]
     },
     "execution_count": 41,
     "metadata": {},
     "output_type": "execute_result"
    }
   ],
   "source": [
    "stats.ttest_ind( male_spend, female_spend )"
   ]
  },
  {
   "cell_type": "code",
   "execution_count": 42,
   "id": "180bd16c",
   "metadata": {},
   "outputs": [
    {
     "data": {
      "text/plain": [
       "F_onewayResult(statistic=1.760868249357575, pvalue=0.186052230728328)"
      ]
     },
     "execution_count": 42,
     "metadata": {},
     "output_type": "execute_result"
    }
   ],
   "source": [
    "stats.f_oneway( male_spend, female_spend )"
   ]
  },
  {
   "cell_type": "code",
   "execution_count": 43,
   "id": "8e09c6b8",
   "metadata": {},
   "outputs": [
    {
     "name": "stdout",
     "output_type": "stream",
     "text": [
      " Inference: Pvalue is > 0.05. Therefoe, we accept Null Hypothesis H0 and There is no relationship between the amount claimed by males and females\n"
     ]
    }
   ],
   "source": [
    "print (\" Inference: Pvalue is > 0.05. Therefoe, we accept Null Hypothesis H0 and There is no relationship between the amount claimed by males and females\" )"
   ]
  },
  {
   "cell_type": "markdown",
   "id": "7d3215ab",
   "metadata": {},
   "source": [
    "17)Is there any relationship between age category and segment?\n"
   ]
  },
  {
   "cell_type": "code",
   "execution_count": 44,
   "id": "e1e3c772",
   "metadata": {},
   "outputs": [
    {
     "data": {
      "text/html": [
       "<div>\n",
       "<style scoped>\n",
       "    .dataframe tbody tr th:only-of-type {\n",
       "        vertical-align: middle;\n",
       "    }\n",
       "\n",
       "    .dataframe tbody tr th {\n",
       "        vertical-align: top;\n",
       "    }\n",
       "\n",
       "    .dataframe thead th {\n",
       "        text-align: right;\n",
       "    }\n",
       "</style>\n",
       "<table border=\"1\" class=\"dataframe\">\n",
       "  <thead>\n",
       "    <tr style=\"text-align: right;\">\n",
       "      <th>Age_grp</th>\n",
       "      <th>Adult</th>\n",
       "      <th>Children</th>\n",
       "      <th>NaN</th>\n",
       "      <th>Youth</th>\n",
       "    </tr>\n",
       "    <tr>\n",
       "      <th>Segment</th>\n",
       "      <th></th>\n",
       "      <th></th>\n",
       "      <th></th>\n",
       "      <th></th>\n",
       "    </tr>\n",
       "  </thead>\n",
       "  <tbody>\n",
       "    <tr>\n",
       "      <th>Gold</th>\n",
       "      <td>268</td>\n",
       "      <td>1</td>\n",
       "      <td>1</td>\n",
       "      <td>102</td>\n",
       "    </tr>\n",
       "    <tr>\n",
       "      <th>Platinum</th>\n",
       "      <td>244</td>\n",
       "      <td>1</td>\n",
       "      <td>3</td>\n",
       "      <td>116</td>\n",
       "    </tr>\n",
       "    <tr>\n",
       "      <th>Silver</th>\n",
       "      <td>246</td>\n",
       "      <td>0</td>\n",
       "      <td>3</td>\n",
       "      <td>100</td>\n",
       "    </tr>\n",
       "  </tbody>\n",
       "</table>\n",
       "</div>"
      ],
      "text/plain": [
       "Age_grp   Adult  Children  NaN  Youth\n",
       "Segment                              \n",
       "Gold        268         1    1    102\n",
       "Platinum    244         1    3    116\n",
       "Silver      246         0    3    100"
      ]
     },
     "execution_count": 44,
     "metadata": {},
     "output_type": "execute_result"
    }
   ],
   "source": [
    "obs_freq = pd.crosstab( df.Segment, df.Age_grp )\n",
    "obs_freq"
   ]
  },
  {
   "cell_type": "code",
   "execution_count": 45,
   "id": "9352bf73",
   "metadata": {},
   "outputs": [
    {
     "data": {
      "text/plain": [
       "(4.202535990127086,\n",
       " 0.6492889827669297,\n",
       " 6,\n",
       " array([[259.88571429,   0.68571429,   2.4       , 109.02857143],\n",
       "        [254.29677419,   0.67096774,   2.3483871 , 106.68387097],\n",
       "        [243.81751152,   0.64331797,   2.2516129 , 102.2875576 ]]))"
      ]
     },
     "execution_count": 45,
     "metadata": {},
     "output_type": "execute_result"
    }
   ],
   "source": [
    "stats.chi2_contingency( obs_freq )"
   ]
  },
  {
   "cell_type": "code",
   "execution_count": 46,
   "id": "0b8416bf",
   "metadata": {},
   "outputs": [
    {
     "name": "stdout",
     "output_type": "stream",
     "text": [
      " Inference: Pvalue is > 0.05. Hence we accept Null Hypothesis H0 and There is no relationship between age category and segment\n"
     ]
    }
   ],
   "source": [
    "print (\" Inference: Pvalue is > 0.05. Hence we accept Null Hypothesis H0 and There is no relationship between age category and segment\" )"
   ]
  },
  {
   "cell_type": "markdown",
   "id": "c7a95a24",
   "metadata": {},
   "source": [
    "18)The current year has shown a significant rise in claim amounts as\n",
    "compared to 2016-17 fiscal average which was $10,000.\n"
   ]
  },
  {
   "cell_type": "code",
   "execution_count": 47,
   "id": "f9bfaf30",
   "metadata": {},
   "outputs": [],
   "source": [
    "df_new =  df.groupby([\"claim_date\"])[[\"claim_amount\"]].sum().reset_index()"
   ]
  },
  {
   "cell_type": "code",
   "execution_count": 48,
   "id": "d8a82553",
   "metadata": {},
   "outputs": [
    {
     "data": {
      "text/html": [
       "<div>\n",
       "<style scoped>\n",
       "    .dataframe tbody tr th:only-of-type {\n",
       "        vertical-align: middle;\n",
       "    }\n",
       "\n",
       "    .dataframe tbody tr th {\n",
       "        vertical-align: top;\n",
       "    }\n",
       "\n",
       "    .dataframe thead th {\n",
       "        text-align: right;\n",
       "    }\n",
       "</style>\n",
       "<table border=\"1\" class=\"dataframe\">\n",
       "  <thead>\n",
       "    <tr style=\"text-align: right;\">\n",
       "      <th></th>\n",
       "      <th>claim_date</th>\n",
       "      <th>claim_amount</th>\n",
       "      <th>Monthly</th>\n",
       "      <th>Yearly</th>\n",
       "    </tr>\n",
       "  </thead>\n",
       "  <tbody>\n",
       "    <tr>\n",
       "      <th>0</th>\n",
       "      <td>2017-01-01</td>\n",
       "      <td>203227.0</td>\n",
       "      <td>January</td>\n",
       "      <td>2017</td>\n",
       "    </tr>\n",
       "    <tr>\n",
       "      <th>1</th>\n",
       "      <td>2017-01-07</td>\n",
       "      <td>137763.5</td>\n",
       "      <td>January</td>\n",
       "      <td>2017</td>\n",
       "    </tr>\n",
       "    <tr>\n",
       "      <th>2</th>\n",
       "      <td>2017-01-14</td>\n",
       "      <td>138807.5</td>\n",
       "      <td>January</td>\n",
       "      <td>2017</td>\n",
       "    </tr>\n",
       "    <tr>\n",
       "      <th>3</th>\n",
       "      <td>2017-01-21</td>\n",
       "      <td>72576.5</td>\n",
       "      <td>January</td>\n",
       "      <td>2017</td>\n",
       "    </tr>\n",
       "    <tr>\n",
       "      <th>4</th>\n",
       "      <td>2017-01-27</td>\n",
       "      <td>57928.0</td>\n",
       "      <td>January</td>\n",
       "      <td>2017</td>\n",
       "    </tr>\n",
       "    <tr>\n",
       "      <th>...</th>\n",
       "      <td>...</td>\n",
       "      <td>...</td>\n",
       "      <td>...</td>\n",
       "      <td>...</td>\n",
       "    </tr>\n",
       "    <tr>\n",
       "      <th>95</th>\n",
       "      <td>2018-10-03</td>\n",
       "      <td>162797.5</td>\n",
       "      <td>October</td>\n",
       "      <td>2018</td>\n",
       "    </tr>\n",
       "    <tr>\n",
       "      <th>96</th>\n",
       "      <td>2018-10-09</td>\n",
       "      <td>225007.5</td>\n",
       "      <td>October</td>\n",
       "      <td>2018</td>\n",
       "    </tr>\n",
       "    <tr>\n",
       "      <th>97</th>\n",
       "      <td>2018-10-16</td>\n",
       "      <td>119829.0</td>\n",
       "      <td>October</td>\n",
       "      <td>2018</td>\n",
       "    </tr>\n",
       "    <tr>\n",
       "      <th>98</th>\n",
       "      <td>2018-10-23</td>\n",
       "      <td>147084.0</td>\n",
       "      <td>October</td>\n",
       "      <td>2018</td>\n",
       "    </tr>\n",
       "    <tr>\n",
       "      <th>99</th>\n",
       "      <td>2018-10-30</td>\n",
       "      <td>120735.5</td>\n",
       "      <td>October</td>\n",
       "      <td>2018</td>\n",
       "    </tr>\n",
       "  </tbody>\n",
       "</table>\n",
       "<p>100 rows × 4 columns</p>\n",
       "</div>"
      ],
      "text/plain": [
       "   claim_date  claim_amount  Monthly Yearly\n",
       "0  2017-01-01      203227.0  January   2017\n",
       "1  2017-01-07      137763.5  January   2017\n",
       "2  2017-01-14      138807.5  January   2017\n",
       "3  2017-01-21       72576.5  January   2017\n",
       "4  2017-01-27       57928.0  January   2017\n",
       "..        ...           ...      ...    ...\n",
       "95 2018-10-03      162797.5  October   2018\n",
       "96 2018-10-09      225007.5  October   2018\n",
       "97 2018-10-16      119829.0  October   2018\n",
       "98 2018-10-23      147084.0  October   2018\n",
       "99 2018-10-30      120735.5  October   2018\n",
       "\n",
       "[100 rows x 4 columns]"
      ]
     },
     "execution_count": 48,
     "metadata": {},
     "output_type": "execute_result"
    }
   ],
   "source": [
    "df_new['Monthly'] = df_new['claim_date'].apply(lambda x:pd.Timestamp.strftime(x,format=\"%B\"))\n",
    "df_new['Yearly'] = df_new['claim_date'].apply(lambda x:pd.Timestamp.strftime(x,format=\"%Y\"))\n",
    "df_new"
   ]
  },
  {
   "cell_type": "code",
   "execution_count": 49,
   "id": "c148e21f",
   "metadata": {},
   "outputs": [
    {
     "data": {
      "text/plain": [
       "133465.859375"
      ]
     },
     "execution_count": 49,
     "metadata": {},
     "output_type": "execute_result"
    }
   ],
   "source": [
    "df_new_2017 = df_new.loc[ df_new.Yearly == '2017', 'claim_amount' ].mean()\n",
    "df_new_2017"
   ]
  },
  {
   "cell_type": "code",
   "execution_count": 50,
   "id": "cd4ac138",
   "metadata": {},
   "outputs": [
    {
     "data": {
      "text/plain": [
       "55    200633.0\n",
       "56    246348.0\n",
       "57    164961.5\n",
       "58    109767.0\n",
       "59    115168.0\n",
       "Name: claim_amount, dtype: float32"
      ]
     },
     "execution_count": 50,
     "metadata": {},
     "output_type": "execute_result"
    }
   ],
   "source": [
    "df_new_2018 = df_new.loc[df_new.Yearly == '2018', 'claim_amount' ]\n",
    "df_new_2018.head()"
   ]
  },
  {
   "cell_type": "code",
   "execution_count": 51,
   "id": "df085294",
   "metadata": {
    "scrolled": true
   },
   "outputs": [
    {
     "data": {
      "text/plain": [
       "Ttest_1sampResult(statistic=4.623132209540581, pvalue=3.310963329742883e-05)"
      ]
     },
     "execution_count": 51,
     "metadata": {},
     "output_type": "execute_result"
    }
   ],
   "source": [
    "stats.ttest_1samp( df_new_2018, 100000 )"
   ]
  },
  {
   "cell_type": "code",
   "execution_count": 52,
   "id": "f41502f0",
   "metadata": {},
   "outputs": [
    {
     "name": "stdout",
     "output_type": "stream",
     "text": [
      "We reject the null hypothesis, Spend on the Insurance Claims has increased from last year spend of $100,000\n"
     ]
    }
   ],
   "source": [
    "print(\"We reject the null hypothesis, Spend on the Insurance Claims has increased from last year spend of $100,000\")"
   ]
  },
  {
   "cell_type": "markdown",
   "id": "86c0a8ed",
   "metadata": {},
   "source": [
    "19. Is there any difference between age groups and insurance claims?"
   ]
  },
  {
   "cell_type": "code",
   "execution_count": 53,
   "id": "5efbf351",
   "metadata": {},
   "outputs": [
    {
     "data": {
      "text/plain": [
       "4"
      ]
     },
     "execution_count": 53,
     "metadata": {},
     "output_type": "execute_result"
    }
   ],
   "source": [
    "df.Age_grp.nunique()"
   ]
  },
  {
   "cell_type": "code",
   "execution_count": 54,
   "id": "e92230d8",
   "metadata": {},
   "outputs": [
    {
     "data": {
      "text/plain": [
       "Adult       758\n",
       "Youth       318\n",
       "NaN           7\n",
       "Children      2\n",
       "Name: Age_grp, dtype: int64"
      ]
     },
     "execution_count": 54,
     "metadata": {},
     "output_type": "execute_result"
    }
   ],
   "source": [
    "df.Age_grp.value_counts()"
   ]
  },
  {
   "cell_type": "code",
   "execution_count": 55,
   "id": "d62c15ed",
   "metadata": {},
   "outputs": [],
   "source": [
    "Claims = 'claim_amount'\n",
    "s1 = df.loc[ df.Age_grp == 'Adult', Claims ]\n",
    "s2 = df.loc[ df.Age_grp == 'Youth', Claims ]\n",
    "s3 = df.loc[ df.Age_grp == 'NaN', Claims ]\n",
    "s4 = df.loc[ df.Age_grp == 'Children', Claims ]"
   ]
  },
  {
   "cell_type": "code",
   "execution_count": 56,
   "id": "5a22cbe7",
   "metadata": {},
   "outputs": [
    {
     "name": "stdout",
     "output_type": "stream",
     "text": [
      "Count s1: 12807.7373046875 | Count s2: 11604.1796875 | Count s3: 12470.5009765625 | Count s3: 22405.0\n"
     ]
    }
   ],
   "source": [
    "print( 'Count s1:', s1.mean(), '| Count s2:', s2.mean(), '| Count s3:', s3.mean(), \n",
    "       '| Count s3:', s4.mean() )"
   ]
  },
  {
   "cell_type": "code",
   "execution_count": 57,
   "id": "9cdb6615",
   "metadata": {},
   "outputs": [
    {
     "data": {
      "text/plain": [
       "F_onewayResult(statistic=0.9807714600637603, pvalue=0.4010198300701352)"
      ]
     },
     "execution_count": 57,
     "metadata": {},
     "output_type": "execute_result"
    }
   ],
   "source": [
    "stats.f_oneway( s1, s2, s3, s4 )"
   ]
  },
  {
   "cell_type": "code",
   "execution_count": 58,
   "id": "6aed17ac",
   "metadata": {},
   "outputs": [
    {
     "name": "stdout",
     "output_type": "stream",
     "text": [
      " Inference: Pvalue is > 0.05. Hence we accept Null Hypothesis H0 and There is no relationship between age groups and insurance claims\n"
     ]
    }
   ],
   "source": [
    "print (\" Inference: Pvalue is > 0.05. Hence we accept Null Hypothesis H0 and There is no relationship between age groups and insurance claims\" )"
   ]
  },
  {
   "cell_type": "markdown",
   "id": "7f151cbf",
   "metadata": {},
   "source": [
    "20)Is there any relationship between total number of policy claims and theclaimed amount?"
   ]
  },
  {
   "cell_type": "code",
   "execution_count": 59,
   "id": "e7c9f3a4",
   "metadata": {},
   "outputs": [
    {
     "data": {
      "text/plain": [
       "1.0    781\n",
       "2.0    104\n",
       "3.0     86\n",
       "4.0     58\n",
       "5.0     27\n",
       "6.0      9\n",
       "7.0      2\n",
       "8.0      1\n",
       "Name: total_policy_claims, dtype: int64"
      ]
     },
     "execution_count": 59,
     "metadata": {},
     "output_type": "execute_result"
    }
   ],
   "source": [
    "df.total_policy_claims.value_counts()"
   ]
  },
  {
   "cell_type": "code",
   "execution_count": 60,
   "id": "9481b787",
   "metadata": {},
   "outputs": [],
   "source": [
    "usage = 'claim_amount'\n",
    "s1 = df.loc[ df.total_policy_claims == 1.0, usage ]\n",
    "s2 = df.loc[ df.total_policy_claims == 2.0, usage ]\n",
    "s3 = df.loc[ df.total_policy_claims == 3.0, usage ]\n",
    "s4 = df.loc[ df.total_policy_claims == 4.0, usage ]\n",
    "s5 = df.loc[ df.total_policy_claims == 5.0, usage ]\n",
    "s6 = df.loc[ df.total_policy_claims == 6.0, usage ]\n",
    "s7 = df.loc[ df.total_policy_claims == 7.0, usage ]\n",
    "s8 = df.loc[ df.total_policy_claims == 8.0, usage ]"
   ]
  },
  {
   "cell_type": "code",
   "execution_count": 61,
   "id": "0234c266",
   "metadata": {},
   "outputs": [
    {
     "name": "stdout",
     "output_type": "stream",
     "text": [
      "mean s1: 12403.6552734375 | mean s2: 13876.4521484375 | mean s3: 12928.19140625 mean s4: 11049.724609375 | mean s5: 8530.462890625 | mean s6: 15657.8330078125 |mean s7: 23033.0 | mean s8: 13876.4521484375 | mean s8: 12928.19140625\n"
     ]
    }
   ],
   "source": [
    "print( 'mean s1:', s1.mean(), '| mean s2:', s2.mean(), '| mean s3:', s3.mean(),'mean s4:', s4.mean(), \n",
    "       '| mean s5:', s5.mean(), '| mean s6:', s6.mean(),'|mean s7:', s7.mean(), '| mean s8:', s2.mean(), '| mean s8:', s3.mean() )"
   ]
  },
  {
   "cell_type": "code",
   "execution_count": 62,
   "id": "7bd28bc6",
   "metadata": {},
   "outputs": [
    {
     "data": {
      "text/plain": [
       "F_onewayResult(statistic=0.9303871872119974, pvalue=0.4818261589585725)"
      ]
     },
     "execution_count": 62,
     "metadata": {},
     "output_type": "execute_result"
    }
   ],
   "source": [
    "stats.f_oneway( s1, s2, s3, s4, s5, s6, s7, s8 )"
   ]
  },
  {
   "cell_type": "code",
   "execution_count": 63,
   "id": "3940cef8",
   "metadata": {},
   "outputs": [
    {
     "name": "stdout",
     "output_type": "stream",
     "text": [
      " Inference: Hence we accept Null Hypothesis H0 and There is a relationship between total number of policy claims and the claimed amounts\n"
     ]
    }
   ],
   "source": [
    "print (\" Inference: Hence we accept Null Hypothesis H0 and There is a relationship between total number of policy claims and the claimed amounts\" )"
   ]
  },
  {
   "cell_type": "code",
   "execution_count": null,
   "id": "c5b1e60f",
   "metadata": {},
   "outputs": [],
   "source": []
  },
  {
   "cell_type": "code",
   "execution_count": null,
   "id": "62d5e208",
   "metadata": {},
   "outputs": [],
   "source": []
  },
  {
   "cell_type": "code",
   "execution_count": null,
   "id": "a2b641c6",
   "metadata": {},
   "outputs": [],
   "source": []
  },
  {
   "cell_type": "code",
   "execution_count": null,
   "id": "992fc433",
   "metadata": {},
   "outputs": [],
   "source": []
  },
  {
   "cell_type": "code",
   "execution_count": null,
   "id": "4450e347",
   "metadata": {},
   "outputs": [],
   "source": []
  },
  {
   "cell_type": "code",
   "execution_count": null,
   "id": "d6fb4982",
   "metadata": {},
   "outputs": [],
   "source": []
  }
 ],
 "metadata": {
  "kernelspec": {
   "display_name": "Python 3 (ipykernel)",
   "language": "python",
   "name": "python3"
  },
  "language_info": {
   "codemirror_mode": {
    "name": "ipython",
    "version": 3
   },
   "file_extension": ".py",
   "mimetype": "text/x-python",
   "name": "python",
   "nbconvert_exporter": "python",
   "pygments_lexer": "ipython3",
   "version": "3.9.12"
  }
 },
 "nbformat": 4,
 "nbformat_minor": 5
}
